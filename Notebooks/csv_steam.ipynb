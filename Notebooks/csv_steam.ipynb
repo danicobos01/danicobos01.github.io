{
 "cells": [
  {
   "cell_type": "code",
   "execution_count": 36,
   "id": "40004204",
   "metadata": {},
   "outputs": [],
   "source": [
    "import pandas as pd\n",
    "import numpy as np\n",
    "import matplotlib.pyplot as plt"
   ]
  },
  {
   "cell_type": "markdown",
   "id": "9db236b7",
   "metadata": {},
   "source": [
    "# STEAM REVIEWS\n",
    "## Trabajo realizado para la asignatura de Cloud y Big Data\n",
    "#### En este proyecto hemos realizado una estudio/análisis sobre las reviews de steam extraídas de un conjunto de datos de 8Gb. \n",
    "La idea detrás del proyecto es analizar que tendencias se presentan a la hora de hacer reseñas en la plataforma de steam, así como la extracción de datos de interés para posibles desarrolladores. A medida que avancemos en este cuaderno podremos ver más información de lo que acabamos de mencionar. \n",
    "\n",
    "Los CSVs que leemos en este notebook los hemos extraído del código que se puede ver en el siguiente github: https://github.com/AlbertoGarciaDomenech/Proyecto-Final-CLOUD\n",
    "\n",
    "El conjunto de datos lo hemos sacado de Kaggle en el siguiente link: https://www.kaggle.com/datasets/najzeko/steam-reviews-2021\n",
    "\n",
    "Para realizar el proyecto se ha usado Python como lenguaje, Pyspark a través de Cloud, Github como host para la web en la que mostramos los resultados y la información del proyecto y cuadernos de Jupyter. \n"
   ]
  },
  {
   "cell_type": "markdown",
   "id": "28ae8358",
   "metadata": {},
   "source": [
    "### 1. Número de palabras medio utilizadas en las reviews para cada juego"
   ]
  },
  {
   "cell_type": "code",
   "execution_count": 2,
   "id": "29a51b96",
   "metadata": {},
   "outputs": [],
   "source": [
    "df_avg = pd.read_csv(\"AverageWordsForGame.csv\")"
   ]
  },
  {
   "cell_type": "code",
   "execution_count": 3,
   "id": "f1ffe16a",
   "metadata": {},
   "outputs": [
    {
     "data": {
      "text/html": [
       "<div>\n",
       "<style scoped>\n",
       "    .dataframe tbody tr th:only-of-type {\n",
       "        vertical-align: middle;\n",
       "    }\n",
       "\n",
       "    .dataframe tbody tr th {\n",
       "        vertical-align: top;\n",
       "    }\n",
       "\n",
       "    .dataframe thead th {\n",
       "        text-align: right;\n",
       "    }\n",
       "</style>\n",
       "<table border=\"1\" class=\"dataframe\">\n",
       "  <thead>\n",
       "    <tr style=\"text-align: right;\">\n",
       "      <th></th>\n",
       "      <th>app_name</th>\n",
       "      <th>avg(len_review)</th>\n",
       "    </tr>\n",
       "  </thead>\n",
       "  <tbody>\n",
       "    <tr>\n",
       "      <th>239</th>\n",
       "      <td>三国群英传8 Heroes of the Three Kingdoms 8</td>\n",
       "      <td>3.147454</td>\n",
       "    </tr>\n",
       "    <tr>\n",
       "      <th>101</th>\n",
       "      <td>Senren＊Banka</td>\n",
       "      <td>6.755264</td>\n",
       "    </tr>\n",
       "    <tr>\n",
       "      <th>176</th>\n",
       "      <td>Mirror</td>\n",
       "      <td>8.308165</td>\n",
       "    </tr>\n",
       "    <tr>\n",
       "      <th>0</th>\n",
       "      <td>Human: Fall Flat</td>\n",
       "      <td>8.838864</td>\n",
       "    </tr>\n",
       "    <tr>\n",
       "      <th>4</th>\n",
       "      <td>Wallpaper Engine</td>\n",
       "      <td>9.522624</td>\n",
       "    </tr>\n",
       "    <tr>\n",
       "      <th>...</th>\n",
       "      <td>...</td>\n",
       "      <td>...</td>\n",
       "    </tr>\n",
       "    <tr>\n",
       "      <th>90</th>\n",
       "      <td>Pathfinder: Kingmaker</td>\n",
       "      <td>105.042774</td>\n",
       "    </tr>\n",
       "    <tr>\n",
       "      <th>220</th>\n",
       "      <td>X Rebirth</td>\n",
       "      <td>105.625768</td>\n",
       "    </tr>\n",
       "    <tr>\n",
       "      <th>202</th>\n",
       "      <td>METAL GEAR SURVIVE</td>\n",
       "      <td>120.399610</td>\n",
       "    </tr>\n",
       "    <tr>\n",
       "      <th>47</th>\n",
       "      <td>Torment: Tides of Numenera</td>\n",
       "      <td>159.705082</td>\n",
       "    </tr>\n",
       "    <tr>\n",
       "      <th>30</th>\n",
       "      <td>Secret of Mana</td>\n",
       "      <td>171.449474</td>\n",
       "    </tr>\n",
       "  </tbody>\n",
       "</table>\n",
       "<p>315 rows × 2 columns</p>\n",
       "</div>"
      ],
      "text/plain": [
       "                                  app_name  avg(len_review)\n",
       "239  三国群英传8 Heroes of the Three Kingdoms 8         3.147454\n",
       "101                           Senren＊Banka         6.755264\n",
       "176                                 Mirror         8.308165\n",
       "0                         Human: Fall Flat         8.838864\n",
       "4                         Wallpaper Engine         9.522624\n",
       "..                                     ...              ...\n",
       "90                   Pathfinder: Kingmaker       105.042774\n",
       "220                              X Rebirth       105.625768\n",
       "202                     METAL GEAR SURVIVE       120.399610\n",
       "47              Torment: Tides of Numenera       159.705082\n",
       "30                          Secret of Mana       171.449474\n",
       "\n",
       "[315 rows x 2 columns]"
      ]
     },
     "execution_count": 3,
     "metadata": {},
     "output_type": "execute_result"
    }
   ],
   "source": [
    "df_avg.sort_values(by=['avg(len_review)'])"
   ]
  },
  {
   "cell_type": "markdown",
   "id": "f1dfc8eb",
   "metadata": {},
   "source": [
    "A primera vista podemos observar que hay una gran diferencia entre el juego con menor número medio de palabras y el juego con mayor. Vamos a ver algunos valores estadísticos para sacar algo en claro"
   ]
  },
  {
   "cell_type": "code",
   "execution_count": 4,
   "id": "4b5fe21c",
   "metadata": {},
   "outputs": [
    {
     "data": {
      "text/html": [
       "<div>\n",
       "<style scoped>\n",
       "    .dataframe tbody tr th:only-of-type {\n",
       "        vertical-align: middle;\n",
       "    }\n",
       "\n",
       "    .dataframe tbody tr th {\n",
       "        vertical-align: top;\n",
       "    }\n",
       "\n",
       "    .dataframe thead th {\n",
       "        text-align: right;\n",
       "    }\n",
       "</style>\n",
       "<table border=\"1\" class=\"dataframe\">\n",
       "  <thead>\n",
       "    <tr style=\"text-align: right;\">\n",
       "      <th></th>\n",
       "      <th>count</th>\n",
       "      <th>mean</th>\n",
       "      <th>std</th>\n",
       "      <th>min</th>\n",
       "      <th>25%</th>\n",
       "      <th>50%</th>\n",
       "      <th>75%</th>\n",
       "      <th>max</th>\n",
       "    </tr>\n",
       "  </thead>\n",
       "  <tbody>\n",
       "    <tr>\n",
       "      <th>avg(len_review)</th>\n",
       "      <td>315.0</td>\n",
       "      <td>42.651427</td>\n",
       "      <td>22.655097</td>\n",
       "      <td>3.147454</td>\n",
       "      <td>27.216837</td>\n",
       "      <td>37.554922</td>\n",
       "      <td>55.067488</td>\n",
       "      <td>171.449474</td>\n",
       "    </tr>\n",
       "  </tbody>\n",
       "</table>\n",
       "</div>"
      ],
      "text/plain": [
       "                 count       mean        std       min        25%        50%  \\\n",
       "avg(len_review)  315.0  42.651427  22.655097  3.147454  27.216837  37.554922   \n",
       "\n",
       "                       75%         max  \n",
       "avg(len_review)  55.067488  171.449474  "
      ]
     },
     "execution_count": 4,
     "metadata": {},
     "output_type": "execute_result"
    }
   ],
   "source": [
    "df_avg.describe().transpose()"
   ]
  },
  {
   "cell_type": "markdown",
   "id": "391d17f6",
   "metadata": {},
   "source": [
    "La media general es de 42 palabras por review, por lo que en la tabla inicial los juegos con mayor media estaban más alejados de la media que los juegos con menor media. Por ejemplo el cuarto percentil empieza con 55 palabras de media, que está mucho más cerca del juego con menor media (3) que con el de mayor media (171)\n",
    "\n",
    "También pensamos que igual la longitud de las reviews estaba relacionado de alguna manera con la calidad del juego o con el número de las mismas así que más adelante estudiaremos la correlación entre estas variables para intentar averiguar si alguna de estas depende de otras. \n",
    "\n",
    "A continuación vamos a separar el numero medio de palabras utilizada por review dependiendo de si se trata de una review favorable o de una en la que el usuario no recomienda el juego del que ha escrito"
   ]
  },
  {
   "cell_type": "markdown",
   "id": "0bdccdeb",
   "metadata": {},
   "source": [
    "### 2. Numero de palabras medio haciendo distinción entre reviews positivas y negativas"
   ]
  },
  {
   "cell_type": "markdown",
   "id": "3fcaacce",
   "metadata": {},
   "source": [
    "Antes de pasar a analizar los resultados vamos a dejar escrito algunas ideas que tenemos sobre lo que va a suceder\n",
    "- Creemos que las reviews negativas van a tener mayor numero medio de palabras\n",
    "- Creemos que la tabla con las reviews positivas va a ser muy parecida a la anterior\n",
    "- Creemos que va a haber algun juego con algun valor anormalmente grande en las reviews negativas"
   ]
  },
  {
   "cell_type": "code",
   "execution_count": 5,
   "id": "590914bc",
   "metadata": {},
   "outputs": [
    {
     "data": {
      "text/html": [
       "<div>\n",
       "<style scoped>\n",
       "    .dataframe tbody tr th:only-of-type {\n",
       "        vertical-align: middle;\n",
       "    }\n",
       "\n",
       "    .dataframe tbody tr th {\n",
       "        vertical-align: top;\n",
       "    }\n",
       "\n",
       "    .dataframe thead th {\n",
       "        text-align: right;\n",
       "    }\n",
       "</style>\n",
       "<table border=\"1\" class=\"dataframe\">\n",
       "  <thead>\n",
       "    <tr style=\"text-align: right;\">\n",
       "      <th></th>\n",
       "      <th>app_name</th>\n",
       "      <th>avg(len_review)</th>\n",
       "    </tr>\n",
       "  </thead>\n",
       "  <tbody>\n",
       "    <tr>\n",
       "      <th>239</th>\n",
       "      <td>三国群英传8 Heroes of the Three Kingdoms 8</td>\n",
       "      <td>3.104340</td>\n",
       "    </tr>\n",
       "    <tr>\n",
       "      <th>101</th>\n",
       "      <td>Senren＊Banka</td>\n",
       "      <td>6.527178</td>\n",
       "    </tr>\n",
       "    <tr>\n",
       "      <th>176</th>\n",
       "      <td>Mirror</td>\n",
       "      <td>7.841331</td>\n",
       "    </tr>\n",
       "    <tr>\n",
       "      <th>0</th>\n",
       "      <td>Human: Fall Flat</td>\n",
       "      <td>8.618650</td>\n",
       "    </tr>\n",
       "    <tr>\n",
       "      <th>238</th>\n",
       "      <td>Neon Hardcorps</td>\n",
       "      <td>8.966292</td>\n",
       "    </tr>\n",
       "    <tr>\n",
       "      <th>...</th>\n",
       "      <td>...</td>\n",
       "      <td>...</td>\n",
       "    </tr>\n",
       "    <tr>\n",
       "      <th>292</th>\n",
       "      <td>Deus Ex: The Fall</td>\n",
       "      <td>109.814159</td>\n",
       "    </tr>\n",
       "    <tr>\n",
       "      <th>220</th>\n",
       "      <td>X Rebirth</td>\n",
       "      <td>118.583502</td>\n",
       "    </tr>\n",
       "    <tr>\n",
       "      <th>202</th>\n",
       "      <td>METAL GEAR SURVIVE</td>\n",
       "      <td>131.427286</td>\n",
       "    </tr>\n",
       "    <tr>\n",
       "      <th>47</th>\n",
       "      <td>Torment: Tides of Numenera</td>\n",
       "      <td>153.998403</td>\n",
       "    </tr>\n",
       "    <tr>\n",
       "      <th>30</th>\n",
       "      <td>Secret of Mana</td>\n",
       "      <td>176.775994</td>\n",
       "    </tr>\n",
       "  </tbody>\n",
       "</table>\n",
       "<p>315 rows × 2 columns</p>\n",
       "</div>"
      ],
      "text/plain": [
       "                                  app_name  avg(len_review)\n",
       "239  三国群英传8 Heroes of the Three Kingdoms 8         3.104340\n",
       "101                           Senren＊Banka         6.527178\n",
       "176                                 Mirror         7.841331\n",
       "0                         Human: Fall Flat         8.618650\n",
       "238                         Neon Hardcorps         8.966292\n",
       "..                                     ...              ...\n",
       "292                      Deus Ex: The Fall       109.814159\n",
       "220                              X Rebirth       118.583502\n",
       "202                     METAL GEAR SURVIVE       131.427286\n",
       "47              Torment: Tides of Numenera       153.998403\n",
       "30                          Secret of Mana       176.775994\n",
       "\n",
       "[315 rows x 2 columns]"
      ]
     },
     "execution_count": 5,
     "metadata": {},
     "output_type": "execute_result"
    }
   ],
   "source": [
    "df_positivas = pd.read_csv(\"AverageWordPositive.csv\")\n",
    "df_positivas.sort_values(by=['avg(len_review)'])"
   ]
  },
  {
   "cell_type": "code",
   "execution_count": 6,
   "id": "9f6ad9ed",
   "metadata": {},
   "outputs": [
    {
     "data": {
      "text/html": [
       "<div>\n",
       "<style scoped>\n",
       "    .dataframe tbody tr th:only-of-type {\n",
       "        vertical-align: middle;\n",
       "    }\n",
       "\n",
       "    .dataframe tbody tr th {\n",
       "        vertical-align: top;\n",
       "    }\n",
       "\n",
       "    .dataframe thead th {\n",
       "        text-align: right;\n",
       "    }\n",
       "</style>\n",
       "<table border=\"1\" class=\"dataframe\">\n",
       "  <thead>\n",
       "    <tr style=\"text-align: right;\">\n",
       "      <th></th>\n",
       "      <th>app_name</th>\n",
       "      <th>avg(len_review)</th>\n",
       "    </tr>\n",
       "  </thead>\n",
       "  <tbody>\n",
       "    <tr>\n",
       "      <th>239</th>\n",
       "      <td>三国群英传8 Heroes of the Three Kingdoms 8</td>\n",
       "      <td>3.206174</td>\n",
       "    </tr>\n",
       "    <tr>\n",
       "      <th>86</th>\n",
       "      <td>Battle Royale Trainer</td>\n",
       "      <td>10.645113</td>\n",
       "    </tr>\n",
       "    <tr>\n",
       "      <th>0</th>\n",
       "      <td>Human: Fall Flat</td>\n",
       "      <td>12.462647</td>\n",
       "    </tr>\n",
       "    <tr>\n",
       "      <th>4</th>\n",
       "      <td>Wallpaper Engine</td>\n",
       "      <td>12.616216</td>\n",
       "    </tr>\n",
       "    <tr>\n",
       "      <th>250</th>\n",
       "      <td>Overcooked! 2</td>\n",
       "      <td>14.570101</td>\n",
       "    </tr>\n",
       "    <tr>\n",
       "      <th>...</th>\n",
       "      <td>...</td>\n",
       "      <td>...</td>\n",
       "    </tr>\n",
       "    <tr>\n",
       "      <th>306</th>\n",
       "      <td>Axiom Verge</td>\n",
       "      <td>163.036101</td>\n",
       "    </tr>\n",
       "    <tr>\n",
       "      <th>47</th>\n",
       "      <td>Torment: Tides of Numenera</td>\n",
       "      <td>172.748175</td>\n",
       "    </tr>\n",
       "    <tr>\n",
       "      <th>90</th>\n",
       "      <td>Pathfinder: Kingmaker</td>\n",
       "      <td>173.455722</td>\n",
       "    </tr>\n",
       "    <tr>\n",
       "      <th>230</th>\n",
       "      <td>ULTRAKILL</td>\n",
       "      <td>182.384615</td>\n",
       "    </tr>\n",
       "    <tr>\n",
       "      <th>245</th>\n",
       "      <td>Thimbleweed Park</td>\n",
       "      <td>193.063218</td>\n",
       "    </tr>\n",
       "  </tbody>\n",
       "</table>\n",
       "<p>315 rows × 2 columns</p>\n",
       "</div>"
      ],
      "text/plain": [
       "                                  app_name  avg(len_review)\n",
       "239  三国群英传8 Heroes of the Three Kingdoms 8         3.206174\n",
       "86                   Battle Royale Trainer        10.645113\n",
       "0                         Human: Fall Flat        12.462647\n",
       "4                         Wallpaper Engine        12.616216\n",
       "250                          Overcooked! 2        14.570101\n",
       "..                                     ...              ...\n",
       "306                            Axiom Verge       163.036101\n",
       "47              Torment: Tides of Numenera       172.748175\n",
       "90                   Pathfinder: Kingmaker       173.455722\n",
       "230                              ULTRAKILL       182.384615\n",
       "245                       Thimbleweed Park       193.063218\n",
       "\n",
       "[315 rows x 2 columns]"
      ]
     },
     "execution_count": 6,
     "metadata": {},
     "output_type": "execute_result"
    }
   ],
   "source": [
    "df_negativas = pd.read_csv(\"AverageWordNegative.csv\")\n",
    "df_negativas.sort_values(by=['avg(len_review)'])"
   ]
  },
  {
   "cell_type": "code",
   "execution_count": 7,
   "id": "c4d5e9f9",
   "metadata": {},
   "outputs": [
    {
     "data": {
      "text/html": [
       "<div>\n",
       "<style scoped>\n",
       "    .dataframe tbody tr th:only-of-type {\n",
       "        vertical-align: middle;\n",
       "    }\n",
       "\n",
       "    .dataframe tbody tr th {\n",
       "        vertical-align: top;\n",
       "    }\n",
       "\n",
       "    .dataframe thead th {\n",
       "        text-align: right;\n",
       "    }\n",
       "</style>\n",
       "<table border=\"1\" class=\"dataframe\">\n",
       "  <thead>\n",
       "    <tr style=\"text-align: right;\">\n",
       "      <th></th>\n",
       "      <th>count</th>\n",
       "      <th>mean</th>\n",
       "      <th>std</th>\n",
       "      <th>min</th>\n",
       "      <th>25%</th>\n",
       "      <th>50%</th>\n",
       "      <th>75%</th>\n",
       "      <th>max</th>\n",
       "    </tr>\n",
       "  </thead>\n",
       "  <tbody>\n",
       "    <tr>\n",
       "      <th>avg(len_review)</th>\n",
       "      <td>315.0</td>\n",
       "      <td>40.272878</td>\n",
       "      <td>22.545323</td>\n",
       "      <td>3.10434</td>\n",
       "      <td>25.40357</td>\n",
       "      <td>34.853607</td>\n",
       "      <td>50.814023</td>\n",
       "      <td>176.775994</td>\n",
       "    </tr>\n",
       "  </tbody>\n",
       "</table>\n",
       "</div>"
      ],
      "text/plain": [
       "                 count       mean        std      min       25%        50%  \\\n",
       "avg(len_review)  315.0  40.272878  22.545323  3.10434  25.40357  34.853607   \n",
       "\n",
       "                       75%         max  \n",
       "avg(len_review)  50.814023  176.775994  "
      ]
     },
     "execution_count": 7,
     "metadata": {},
     "output_type": "execute_result"
    }
   ],
   "source": [
    "df_positivas.describe().transpose()"
   ]
  },
  {
   "cell_type": "code",
   "execution_count": 8,
   "id": "5d770836",
   "metadata": {},
   "outputs": [
    {
     "data": {
      "text/html": [
       "<div>\n",
       "<style scoped>\n",
       "    .dataframe tbody tr th:only-of-type {\n",
       "        vertical-align: middle;\n",
       "    }\n",
       "\n",
       "    .dataframe tbody tr th {\n",
       "        vertical-align: top;\n",
       "    }\n",
       "\n",
       "    .dataframe thead th {\n",
       "        text-align: right;\n",
       "    }\n",
       "</style>\n",
       "<table border=\"1\" class=\"dataframe\">\n",
       "  <thead>\n",
       "    <tr style=\"text-align: right;\">\n",
       "      <th></th>\n",
       "      <th>count</th>\n",
       "      <th>mean</th>\n",
       "      <th>std</th>\n",
       "      <th>min</th>\n",
       "      <th>25%</th>\n",
       "      <th>50%</th>\n",
       "      <th>75%</th>\n",
       "      <th>max</th>\n",
       "    </tr>\n",
       "  </thead>\n",
       "  <tbody>\n",
       "    <tr>\n",
       "      <th>avg(len_review)</th>\n",
       "      <td>315.0</td>\n",
       "      <td>67.281037</td>\n",
       "      <td>31.349083</td>\n",
       "      <td>3.206174</td>\n",
       "      <td>46.222587</td>\n",
       "      <td>62.931152</td>\n",
       "      <td>85.119601</td>\n",
       "      <td>193.063218</td>\n",
       "    </tr>\n",
       "  </tbody>\n",
       "</table>\n",
       "</div>"
      ],
      "text/plain": [
       "                 count       mean        std       min        25%        50%  \\\n",
       "avg(len_review)  315.0  67.281037  31.349083  3.206174  46.222587  62.931152   \n",
       "\n",
       "                       75%         max  \n",
       "avg(len_review)  85.119601  193.063218  "
      ]
     },
     "execution_count": 8,
     "metadata": {},
     "output_type": "execute_result"
    }
   ],
   "source": [
    "df_negativas.describe().transpose()"
   ]
  },
  {
   "cell_type": "markdown",
   "id": "7b8fd0cb",
   "metadata": {},
   "source": [
    "Viendo los resultados y lo que hemos planteado al inicio podemos ver que hemos acertado en dos de los tres puntos mencionados.\n",
    "Por una parte la media de palabras en las reviews negativas es mayor que en el caso de las reviews positivas. Sin embargo sí que esperabamos que fuese aun mayor dicha diferencia pero al ser un conjunto tan grande de datos es normal que se normalice a valores más bajos de lo que cabría esperar\n",
    "También podemos ver que la tabla de reviews positivas es más parecida a la de reviews en general que la de negativas, que incluye nuevos juegos que no aparecen en ninguna de las dos tablas. Esto se debe a que hay más reviews positivas que negativas en general, como estudiaremos más adelante. \n",
    "El tercer punto no se cumple y creemos que se debe a lo mencionado anteriormente. El conjunto de datos es lo suficientemente grande para que no haya valores anormalmente altos. \n",
    "\n",
    "Cuando dijimos que creíamos que las reviews negativas tendrían más palabras de media nos basábamos en la tendencia real que tenemos como seres humanos a enfocarnos más en los puntos negativos que en los positivas. Cuando hablamos de algo que no nos ha gustado solemos usar más palabras para intentar desahogarnos que cuando algo sí nos ha gustado"
   ]
  },
  {
   "cell_type": "code",
   "execution_count": 9,
   "id": "ef3ea9d9",
   "metadata": {},
   "outputs": [],
   "source": [
    "df_positivas = df_positivas.sort_values(by=['app_name'])\n",
    "df_negativas = df_negativas.sort_values(by=['app_name'])"
   ]
  },
  {
   "cell_type": "code",
   "execution_count": 10,
   "id": "78f6f05d",
   "metadata": {},
   "outputs": [],
   "source": [
    "valores_pos = list(df_positivas['avg(len_review)'])[0:10]\n",
    "valores_neg = list(df_negativas['avg(len_review)'])[0:10]"
   ]
  },
  {
   "cell_type": "code",
   "execution_count": 11,
   "id": "de9fdea3",
   "metadata": {},
   "outputs": [
    {
     "data": {
      "image/png": "[encoded data removed]",
      "text/plain": [
       "<Figure size 432x288 with 1 Axes>"
      ]
     },
     "metadata": {
      "needs_background": "light"
     },
     "output_type": "display_data"
    }
   ],
   "source": [
    "x = np.arange(10)\n",
    "width = 0.25\n",
    "plt.bar(x - width, valores_pos, width=width, label='Positivas')\n",
    "plt.bar(x + width, valores_neg, width=width, label='Negativas')\n",
    "plt.xticks(x, valores_pos)\n",
    "plt.legend(loc='best')\n",
    "plt.show()"
   ]
  },
  {
   "cell_type": "markdown",
   "id": "17717edd",
   "metadata": {},
   "source": [
    "Hemos seleccionado los primeros 10 juegos que han aparecido en ambas tablas y los hemos puesto en el mismo diagrama de barras. Como podemos ver, en 9 de los 10 casos el numero medio de palabras utilizado en las reviews negativas es mayor que en las reviews positivas. Vamos a ver el caso en el que no sucede esto. "
   ]
  },
  {
   "cell_type": "code",
   "execution_count": 12,
   "id": "3eaa5e29",
   "metadata": {},
   "outputs": [
    {
     "data": {
      "text/plain": [
       "290    ATLAS\n",
       "Name: app_name, dtype: object"
      ]
     },
     "execution_count": 12,
     "metadata": {},
     "output_type": "execute_result"
    }
   ],
   "source": [
    "df_positivas.iloc[[5]]['app_name']"
   ]
  },
  {
   "cell_type": "code",
   "execution_count": 13,
   "id": "d68f2917",
   "metadata": {
    "scrolled": true
   },
   "outputs": [
    {
     "data": {
      "text/html": [
       "<div>\n",
       "<style scoped>\n",
       "    .dataframe tbody tr th:only-of-type {\n",
       "        vertical-align: middle;\n",
       "    }\n",
       "\n",
       "    .dataframe tbody tr th {\n",
       "        vertical-align: top;\n",
       "    }\n",
       "\n",
       "    .dataframe thead th {\n",
       "        text-align: right;\n",
       "    }\n",
       "</style>\n",
       "<table border=\"1\" class=\"dataframe\">\n",
       "  <thead>\n",
       "    <tr style=\"text-align: right;\">\n",
       "      <th></th>\n",
       "      <th>app_name</th>\n",
       "      <th>avg(len_review)</th>\n",
       "    </tr>\n",
       "  </thead>\n",
       "  <tbody>\n",
       "    <tr>\n",
       "      <th>290</th>\n",
       "      <td>ATLAS</td>\n",
       "      <td>58.319549</td>\n",
       "    </tr>\n",
       "  </tbody>\n",
       "</table>\n",
       "</div>"
      ],
      "text/plain": [
       "    app_name  avg(len_review)\n",
       "290    ATLAS        58.319549"
      ]
     },
     "execution_count": 13,
     "metadata": {},
     "output_type": "execute_result"
    }
   ],
   "source": [
    "df_positivas.loc[df_positivas['app_name'] == 'ATLAS'] "
   ]
  },
  {
   "cell_type": "code",
   "execution_count": 14,
   "id": "ccfb1762",
   "metadata": {},
   "outputs": [
    {
     "data": {
      "text/html": [
       "<div>\n",
       "<style scoped>\n",
       "    .dataframe tbody tr th:only-of-type {\n",
       "        vertical-align: middle;\n",
       "    }\n",
       "\n",
       "    .dataframe tbody tr th {\n",
       "        vertical-align: top;\n",
       "    }\n",
       "\n",
       "    .dataframe thead th {\n",
       "        text-align: right;\n",
       "    }\n",
       "</style>\n",
       "<table border=\"1\" class=\"dataframe\">\n",
       "  <thead>\n",
       "    <tr style=\"text-align: right;\">\n",
       "      <th></th>\n",
       "      <th>app_name</th>\n",
       "      <th>avg(len_review)</th>\n",
       "    </tr>\n",
       "  </thead>\n",
       "  <tbody>\n",
       "    <tr>\n",
       "      <th>290</th>\n",
       "      <td>ATLAS</td>\n",
       "      <td>57.516516</td>\n",
       "    </tr>\n",
       "  </tbody>\n",
       "</table>\n",
       "</div>"
      ],
      "text/plain": [
       "    app_name  avg(len_review)\n",
       "290    ATLAS        57.516516"
      ]
     },
     "execution_count": 14,
     "metadata": {},
     "output_type": "execute_result"
    }
   ],
   "source": [
    "df_negativas.loc[df_negativas['app_name'] == 'ATLAS'] "
   ]
  },
  {
   "cell_type": "markdown",
   "id": "711ed5fb",
   "metadata": {},
   "source": [
    "'ATLAS' es el juego que escapa un poco de la tónica general aunque tan solo es una palabra más de media. Cuándo calculemos otros valores como el número de reseñas o la valoración de los juegos volveremos a tratar este punto para encontrar la lógica detrás de este suceso"
   ]
  },
  {
   "cell_type": "markdown",
   "id": "673dfbc0",
   "metadata": {},
   "source": [
    "Vamos a desarrollar una función para ver de los 314 juegos de los que tenemos información cuáles son aquellos en los que el numero medio de palabras sea mayor en las reviews negativas que en las positivas"
   ]
  },
  {
   "cell_type": "code",
   "execution_count": 18,
   "id": "678be8b7",
   "metadata": {},
   "outputs": [],
   "source": [
    "def MostWordsPositiveNegative():\n",
    "    contNegativesMostWords = 0\n",
    "    for ind in df_avg.index:\n",
    "        if(df_negativas['avg(len_review)'][ind] > df_positivas['avg(len_review)'][ind]):\n",
    "            contNegativesMostWords += 1\n",
    "    return contNegativesMostWords"
   ]
  },
  {
   "cell_type": "code",
   "execution_count": 20,
   "id": "52ea04d0",
   "metadata": {},
   "outputs": [
    {
     "data": {
      "text/plain": [
       "0.926984126984127"
      ]
     },
     "execution_count": 20,
     "metadata": {},
     "output_type": "execute_result"
    }
   ],
   "source": [
    "MostWordsPositiveNegative() / len(df_avg.index)"
   ]
  },
  {
   "cell_type": "markdown",
   "id": "d128ee26",
   "metadata": {},
   "source": [
    "Como vemos arriba, casi el 93% de los juegos tiene mayor media de palabras en sus reviews negativas que en las positivas. Esto sigue apoyando nuestra teoría desarrollada más arriba, en la que aseguramos que a la hora de expresar opiniones generalmente negativas, usamos más palabras que al hablar de las cosas positivas"
   ]
  },
  {
   "cell_type": "markdown",
   "id": "5a6778d8",
   "metadata": {},
   "source": [
    "### 3. Numero de reviews para cada juego"
   ]
  },
  {
   "cell_type": "code",
   "execution_count": 58,
   "id": "94132565",
   "metadata": {},
   "outputs": [
    {
     "data": {
      "text/html": [
       "<div>\n",
       "<style scoped>\n",
       "    .dataframe tbody tr th:only-of-type {\n",
       "        vertical-align: middle;\n",
       "    }\n",
       "\n",
       "    .dataframe tbody tr th {\n",
       "        vertical-align: top;\n",
       "    }\n",
       "\n",
       "    .dataframe thead th {\n",
       "        text-align: right;\n",
       "    }\n",
       "</style>\n",
       "<table border=\"1\" class=\"dataframe\">\n",
       "  <thead>\n",
       "    <tr style=\"text-align: right;\">\n",
       "      <th></th>\n",
       "      <th>app_name</th>\n",
       "      <th>count</th>\n",
       "    </tr>\n",
       "  </thead>\n",
       "  <tbody>\n",
       "    <tr>\n",
       "      <th>238</th>\n",
       "      <td>Neon Hardcorps</td>\n",
       "      <td>200</td>\n",
       "    </tr>\n",
       "    <tr>\n",
       "      <th>151</th>\n",
       "      <td>DRAGON QUEST HEROES™ II</td>\n",
       "      <td>600</td>\n",
       "    </tr>\n",
       "    <tr>\n",
       "      <th>113</th>\n",
       "      <td>Shadow Complex Remastered</td>\n",
       "      <td>700</td>\n",
       "    </tr>\n",
       "    <tr>\n",
       "      <th>65</th>\n",
       "      <td>Out of the Park Baseball 19</td>\n",
       "      <td>700</td>\n",
       "    </tr>\n",
       "    <tr>\n",
       "      <th>182</th>\n",
       "      <td>Don't Escape: 4 Days to Survive</td>\n",
       "      <td>1013</td>\n",
       "    </tr>\n",
       "    <tr>\n",
       "      <th>...</th>\n",
       "      <td>...</td>\n",
       "      <td>...</td>\n",
       "    </tr>\n",
       "    <tr>\n",
       "      <th>192</th>\n",
       "      <td>Garry's Mod</td>\n",
       "      <td>655524</td>\n",
       "    </tr>\n",
       "    <tr>\n",
       "      <th>23</th>\n",
       "      <td>Terraria</td>\n",
       "      <td>672815</td>\n",
       "    </tr>\n",
       "    <tr>\n",
       "      <th>79</th>\n",
       "      <td>Tom Clancy's Rainbow Six Siege</td>\n",
       "      <td>841918</td>\n",
       "    </tr>\n",
       "    <tr>\n",
       "      <th>107</th>\n",
       "      <td>Grand Theft Auto V</td>\n",
       "      <td>1019116</td>\n",
       "    </tr>\n",
       "    <tr>\n",
       "      <th>124</th>\n",
       "      <td>PLAYERUNKNOWN'S BATTLEGROUNDS</td>\n",
       "      <td>1644255</td>\n",
       "    </tr>\n",
       "  </tbody>\n",
       "</table>\n",
       "<p>315 rows × 2 columns</p>\n",
       "</div>"
      ],
      "text/plain": [
       "                            app_name    count\n",
       "238                   Neon Hardcorps      200\n",
       "151          DRAGON QUEST HEROES™ II      600\n",
       "113        Shadow Complex Remastered      700\n",
       "65       Out of the Park Baseball 19      700\n",
       "182  Don't Escape: 4 Days to Survive     1013\n",
       "..                               ...      ...\n",
       "192                      Garry's Mod   655524\n",
       "23                          Terraria   672815\n",
       "79    Tom Clancy's Rainbow Six Siege   841918\n",
       "107               Grand Theft Auto V  1019116\n",
       "124    PLAYERUNKNOWN'S BATTLEGROUNDS  1644255\n",
       "\n",
       "[315 rows x 2 columns]"
      ]
     },
     "execution_count": 58,
     "metadata": {},
     "output_type": "execute_result"
    }
   ],
   "source": [
    "df_numreviews = pd.read_csv(\"NumReviewsForGame.csv\")\n",
    "df_numreviews = df_numreviews.sort_values(by=[\"count\"])\n",
    "df_numreviews"
   ]
  },
  {
   "cell_type": "code",
   "execution_count": 65,
   "id": "7aae5bdb",
   "metadata": {},
   "outputs": [
    {
     "data": {
      "text/html": [
       "<div>\n",
       "<style scoped>\n",
       "    .dataframe tbody tr th:only-of-type {\n",
       "        vertical-align: middle;\n",
       "    }\n",
       "\n",
       "    .dataframe tbody tr th {\n",
       "        vertical-align: top;\n",
       "    }\n",
       "\n",
       "    .dataframe thead th {\n",
       "        text-align: right;\n",
       "    }\n",
       "</style>\n",
       "<table border=\"1\" class=\"dataframe\">\n",
       "  <thead>\n",
       "    <tr style=\"text-align: right;\">\n",
       "      <th></th>\n",
       "      <th>count</th>\n",
       "      <th>mean</th>\n",
       "      <th>std</th>\n",
       "      <th>min</th>\n",
       "      <th>25%</th>\n",
       "      <th>50%</th>\n",
       "      <th>75%</th>\n",
       "      <th>max</th>\n",
       "    </tr>\n",
       "  </thead>\n",
       "  <tbody>\n",
       "    <tr>\n",
       "      <th>count</th>\n",
       "      <td>315.0</td>\n",
       "      <td>69039.273016</td>\n",
       "      <td>151035.465211</td>\n",
       "      <td>200.0</td>\n",
       "      <td>6606.5</td>\n",
       "      <td>22437.0</td>\n",
       "      <td>62222.5</td>\n",
       "      <td>1644255.0</td>\n",
       "    </tr>\n",
       "  </tbody>\n",
       "</table>\n",
       "</div>"
      ],
      "text/plain": [
       "       count          mean            std    min     25%      50%      75%  \\\n",
       "count  315.0  69039.273016  151035.465211  200.0  6606.5  22437.0  62222.5   \n",
       "\n",
       "             max  \n",
       "count  1644255.0  "
      ]
     },
     "execution_count": 65,
     "metadata": {},
     "output_type": "execute_result"
    }
   ],
   "source": [
    "df_numreviews.describe().transpose()"
   ]
  },
  {
   "cell_type": "code",
   "execution_count": 62,
   "id": "f90ce39d",
   "metadata": {},
   "outputs": [
    {
     "data": {
      "image/png": "[encoded data removed]",
      "text/plain": [
       "<Figure size 432x288 with 1 Axes>"
      ]
     },
     "metadata": {
      "needs_background": "light"
     },
     "output_type": "display_data"
    }
   ],
   "source": [
    "topreviews = df_numreviews.tail(25)\n",
    "topreviews.plot.bar(x='app_name').get_figure().savefig('Top_reviews')"
   ]
  },
  {
   "cell_type": "markdown",
   "id": "7e207aec",
   "metadata": {},
   "source": [
    "Vemos que hay una gran diferencia entre algunos juegos y otros. 'PLAYERUNKNOWNS's battlegrounds' es el juego con mayor número de reseñas, teniendo más de un millón seiscientas. \n",
    "La otra cara de la moneda le corresponde a 'NEON Hardcops' que tan solo cuenta con 200 reseñas. \n",
    "\n",
    "Viendo la media y la desviación tipica queda demostrada la gran diferencia entre los propios juegos aunque en el cuarto percentil podemos ver que empieza por un número menor que el de la media, por lo que vemos que los juegos con mayor numero de reviews condicionan mucho al resto de datos. Unos pocos juegos acaparan la gran mayoría de reviews aunque sean menos juegos que el resto"
   ]
  },
  {
   "cell_type": "code",
   "execution_count": 63,
   "id": "17f40890",
   "metadata": {},
   "outputs": [],
   "source": [
    "df_numreviews = df_numreviews.sort_values(by=['app_name'])"
   ]
  },
  {
   "cell_type": "code",
   "execution_count": 64,
   "id": "05de20fc",
   "metadata": {},
   "outputs": [
    {
     "data": {
      "text/html": [
       "<div>\n",
       "<style scoped>\n",
       "    .dataframe tbody tr th:only-of-type {\n",
       "        vertical-align: middle;\n",
       "    }\n",
       "\n",
       "    .dataframe tbody tr th {\n",
       "        vertical-align: top;\n",
       "    }\n",
       "\n",
       "    .dataframe thead th {\n",
       "        text-align: right;\n",
       "    }\n",
       "</style>\n",
       "<table border=\"1\" class=\"dataframe\">\n",
       "  <thead>\n",
       "    <tr style=\"text-align: right;\">\n",
       "      <th></th>\n",
       "      <th>app_name</th>\n",
       "      <th>count</th>\n",
       "    </tr>\n",
       "  </thead>\n",
       "  <tbody>\n",
       "    <tr>\n",
       "      <th>290</th>\n",
       "      <td>ATLAS</td>\n",
       "      <td>37210</td>\n",
       "    </tr>\n",
       "  </tbody>\n",
       "</table>\n",
       "</div>"
      ],
      "text/plain": [
       "    app_name  count\n",
       "290    ATLAS  37210"
      ]
     },
     "execution_count": 64,
     "metadata": {},
     "output_type": "execute_result"
    }
   ],
   "source": [
    "df_numreviews.iloc[[5]]"
   ]
  },
  {
   "cell_type": "markdown",
   "id": "9f3a7091",
   "metadata": {},
   "source": [
    "En el apartado anterior vimos que en el caso del juego 'ATLAS' no se cumplía la tendencia de escribir más palabras en las reviews negativas que en las positivas. Ahora vemos que el numero de reviews de este juego es bastante inferior a la media y aún contando la desviación seguiría estando por debajo. Con esto podemos intuir que simplemente se trataba de un caso especial, o que la diferencia era tan escasa que no había ningún motivo para encontrar una lógica. "
   ]
  },
  {
   "cell_type": "markdown",
   "id": "2b1418ac",
   "metadata": {},
   "source": [
    "### 4. Correlación entre numero medio de palabras y numero de reviews por juego"
   ]
  },
  {
   "cell_type": "markdown",
   "id": "8b5ee6ba",
   "metadata": {},
   "source": [
    "Viendo las tablas hemos llegado a un pensamiento en el que creemos que puede existir alguna correlación entre el numero medio de palabras que se utiliza en las reviews y el numero de las mismas para cada juego. Creemos que cuantas más reviews tenga un juego más probable es que se hayan utilizado menos palabras de media. Pensamos esto por la tendencia de las reviews a ser más cortas que largas, como hemos visto antes. "
   ]
  },
  {
   "cell_type": "code",
   "execution_count": 66,
   "id": "bc919944",
   "metadata": {},
   "outputs": [
    {
     "data": {
      "text/plain": [
       "-0.30029140621500905"
      ]
     },
     "execution_count": 66,
     "metadata": {},
     "output_type": "execute_result"
    }
   ],
   "source": [
    "df_numreviews['count'].corr(df_avg['avg(len_review)'])"
   ]
  },
  {
   "cell_type": "code",
   "execution_count": 69,
   "id": "55dc36f1",
   "metadata": {},
   "outputs": [
    {
     "data": {
      "image/png": "[encoded data removed]",
      "text/plain": [
       "<Figure size 432x288 with 1 Axes>"
      ]
     },
     "metadata": {
      "needs_background": "light"
     },
     "output_type": "display_data"
    },
    {
     "name": "stdout",
     "output_type": "stream",
     "text": [
      "[[ 1.         -0.30029141]\n",
      " [-0.30029141  1.        ]]\n"
     ]
    }
   ],
   "source": [
    "df_numreviews = df_numreviews.sort_values(by=['app_name'])\n",
    "df_avg = df_avg.sort_values(by=['app_name'])\n",
    "x = list(df_numreviews['count'])\n",
    "y = list(df_avg['avg(len_review)'])\n",
    "plt.scatter(x, y)\n",
    "plt.title('Correlacion entre numero de reviews y media de palabras utilizadas')\n",
    "plt.xlabel('Nº Reviews')\n",
    "plt.ylabel('Media de palabras por review')\n",
    "plt.show()\n",
    "print(np.corrcoef(x, y))"
   ]
  },
  {
   "cell_type": "markdown",
   "id": "d7bf1529",
   "metadata": {},
   "source": [
    "A pesar de lo que creíamos, la correlación entre el número de reviews que tiene un juego y el numero medio de palabras utilizado por reviews no es muy fuerte. No se puede afirmar que haya alguna relación entre estos dos conceptos aunque sí que está cerca de nuestro pensamiento inicial que aseguraba que a la hora de escribir reseñas la tendencia era de usar menos palabras. Es decir, pensabamos que lo normal en esta web era escribir reviews cortas por encima de largas.\n",
    "\n",
    "Aunque la correlación sea únicamente de -0.3 se puede intuir levemente que nuestro pensamiento no iba mal encaminado"
   ]
  },
  {
   "cell_type": "markdown",
   "id": "5b7726a3",
   "metadata": {},
   "source": [
    "### 5. Porcentajes de reviews favorables por juego"
   ]
  },
  {
   "cell_type": "markdown",
   "id": "e163e69f",
   "metadata": {},
   "source": [
    "A continuación vamos a ver los porcentajes de reviews favorables de cada juego. Aunque este no sea el medidor oficial para saber la valoración que tiene un juego lo trataremos como tal ya que consideramos que si un juego tiene un 99% de reviews favorables va a ser un juego mejor valorado que otro que tenga un 80%, por poner un ejemplo"
   ]
  },
  {
   "cell_type": "code",
   "execution_count": 70,
   "id": "f55ed127",
   "metadata": {},
   "outputs": [
    {
     "data": {
      "text/html": [
       "<div>\n",
       "<style scoped>\n",
       "    .dataframe tbody tr th:only-of-type {\n",
       "        vertical-align: middle;\n",
       "    }\n",
       "\n",
       "    .dataframe tbody tr th {\n",
       "        vertical-align: top;\n",
       "    }\n",
       "\n",
       "    .dataframe thead th {\n",
       "        text-align: right;\n",
       "    }\n",
       "</style>\n",
       "<table border=\"1\" class=\"dataframe\">\n",
       "  <thead>\n",
       "    <tr style=\"text-align: right;\">\n",
       "      <th></th>\n",
       "      <th>app_name</th>\n",
       "      <th>recommended</th>\n",
       "      <th>count</th>\n",
       "      <th>porcentaje</th>\n",
       "    </tr>\n",
       "  </thead>\n",
       "  <tbody>\n",
       "    <tr>\n",
       "      <th>135</th>\n",
       "      <td>20XX</td>\n",
       "      <td>True</td>\n",
       "      <td>3349</td>\n",
       "      <td>0.927701</td>\n",
       "    </tr>\n",
       "    <tr>\n",
       "      <th>21</th>\n",
       "      <td>A Hat in Time</td>\n",
       "      <td>True</td>\n",
       "      <td>34318</td>\n",
       "      <td>0.981103</td>\n",
       "    </tr>\n",
       "    <tr>\n",
       "      <th>2</th>\n",
       "      <td>A Short Hike</td>\n",
       "      <td>True</td>\n",
       "      <td>5797</td>\n",
       "      <td>0.991449</td>\n",
       "    </tr>\n",
       "    <tr>\n",
       "      <th>163</th>\n",
       "      <td>A Way Out</td>\n",
       "      <td>True</td>\n",
       "      <td>9766</td>\n",
       "      <td>0.892606</td>\n",
       "    </tr>\n",
       "    <tr>\n",
       "      <th>245</th>\n",
       "      <td>ARK: Survival Evolved</td>\n",
       "      <td>True</td>\n",
       "      <td>315243</td>\n",
       "      <td>0.788090</td>\n",
       "    </tr>\n",
       "    <tr>\n",
       "      <th>...</th>\n",
       "      <td>...</td>\n",
       "      <td>...</td>\n",
       "      <td>...</td>\n",
       "      <td>...</td>\n",
       "    </tr>\n",
       "    <tr>\n",
       "      <th>192</th>\n",
       "      <td>XCOM 2</td>\n",
       "      <td>True</td>\n",
       "      <td>52732</td>\n",
       "      <td>0.855539</td>\n",
       "    </tr>\n",
       "    <tr>\n",
       "      <th>124</th>\n",
       "      <td>Yakuza 0</td>\n",
       "      <td>True</td>\n",
       "      <td>29774</td>\n",
       "      <td>0.937026</td>\n",
       "    </tr>\n",
       "    <tr>\n",
       "      <th>259</th>\n",
       "      <td>Youtubers Life</td>\n",
       "      <td>True</td>\n",
       "      <td>9566</td>\n",
       "      <td>0.757943</td>\n",
       "    </tr>\n",
       "    <tr>\n",
       "      <th>194</th>\n",
       "      <td>theHunter: Call of the Wild™</td>\n",
       "      <td>True</td>\n",
       "      <td>57452</td>\n",
       "      <td>0.854432</td>\n",
       "    </tr>\n",
       "    <tr>\n",
       "      <th>285</th>\n",
       "      <td>三国群英传8 Heroes of the Three Kingdoms 8</td>\n",
       "      <td>True</td>\n",
       "      <td>4677</td>\n",
       "      <td>0.576624</td>\n",
       "    </tr>\n",
       "  </tbody>\n",
       "</table>\n",
       "<p>315 rows × 4 columns</p>\n",
       "</div>"
      ],
      "text/plain": [
       "                                  app_name  recommended   count  porcentaje\n",
       "135                                   20XX         True    3349    0.927701\n",
       "21                           A Hat in Time         True   34318    0.981103\n",
       "2                             A Short Hike         True    5797    0.991449\n",
       "163                              A Way Out         True    9766    0.892606\n",
       "245                  ARK: Survival Evolved         True  315243    0.788090\n",
       "..                                     ...          ...     ...         ...\n",
       "192                                 XCOM 2         True   52732    0.855539\n",
       "124                               Yakuza 0         True   29774    0.937026\n",
       "259                         Youtubers Life         True    9566    0.757943\n",
       "194           theHunter: Call of the Wild™         True   57452    0.854432\n",
       "285  三国群英传8 Heroes of the Three Kingdoms 8         True    4677    0.576624\n",
       "\n",
       "[315 rows x 4 columns]"
      ]
     },
     "execution_count": 70,
     "metadata": {},
     "output_type": "execute_result"
    }
   ],
   "source": [
    "df_percentages = pd.read_csv(\"PercentagesReviewsGame.csv\")\n",
    "df_percentages = df_percentages.sort_values(by=['app_name'])\n",
    "df_percentages"
   ]
  },
  {
   "cell_type": "code",
   "execution_count": 71,
   "id": "5e91b1ef",
   "metadata": {},
   "outputs": [
    {
     "data": {
      "text/html": [
       "<div>\n",
       "<style scoped>\n",
       "    .dataframe tbody tr th:only-of-type {\n",
       "        vertical-align: middle;\n",
       "    }\n",
       "\n",
       "    .dataframe tbody tr th {\n",
       "        vertical-align: top;\n",
       "    }\n",
       "\n",
       "    .dataframe thead th {\n",
       "        text-align: right;\n",
       "    }\n",
       "</style>\n",
       "<table border=\"1\" class=\"dataframe\">\n",
       "  <thead>\n",
       "    <tr style=\"text-align: right;\">\n",
       "      <th></th>\n",
       "      <th>app_name</th>\n",
       "      <th>recommended</th>\n",
       "      <th>count</th>\n",
       "      <th>porcentaje</th>\n",
       "    </tr>\n",
       "  </thead>\n",
       "  <tbody>\n",
       "    <tr>\n",
       "      <th>314</th>\n",
       "      <td>Identity</td>\n",
       "      <td>True</td>\n",
       "      <td>439</td>\n",
       "      <td>0.243348</td>\n",
       "    </tr>\n",
       "    <tr>\n",
       "      <th>313</th>\n",
       "      <td>RollerCoaster Tycoon World</td>\n",
       "      <td>True</td>\n",
       "      <td>1300</td>\n",
       "      <td>0.245098</td>\n",
       "    </tr>\n",
       "    <tr>\n",
       "      <th>312</th>\n",
       "      <td>SOS</td>\n",
       "      <td>True</td>\n",
       "      <td>1921</td>\n",
       "      <td>0.278406</td>\n",
       "    </tr>\n",
       "    <tr>\n",
       "      <th>311</th>\n",
       "      <td>Umbrella Corps</td>\n",
       "      <td>True</td>\n",
       "      <td>707</td>\n",
       "      <td>0.282236</td>\n",
       "    </tr>\n",
       "    <tr>\n",
       "      <th>310</th>\n",
       "      <td>NBA 2K18</td>\n",
       "      <td>True</td>\n",
       "      <td>5465</td>\n",
       "      <td>0.291965</td>\n",
       "    </tr>\n",
       "    <tr>\n",
       "      <th>...</th>\n",
       "      <td>...</td>\n",
       "      <td>...</td>\n",
       "      <td>...</td>\n",
       "      <td>...</td>\n",
       "    </tr>\n",
       "    <tr>\n",
       "      <th>4</th>\n",
       "      <td>Factorio</td>\n",
       "      <td>True</td>\n",
       "      <td>107111</td>\n",
       "      <td>0.989186</td>\n",
       "    </tr>\n",
       "    <tr>\n",
       "      <th>3</th>\n",
       "      <td>The Henry Stickmin Collection</td>\n",
       "      <td>True</td>\n",
       "      <td>19211</td>\n",
       "      <td>0.990258</td>\n",
       "    </tr>\n",
       "    <tr>\n",
       "      <th>2</th>\n",
       "      <td>A Short Hike</td>\n",
       "      <td>True</td>\n",
       "      <td>5797</td>\n",
       "      <td>0.991449</td>\n",
       "    </tr>\n",
       "    <tr>\n",
       "      <th>1</th>\n",
       "      <td>Senren＊Banka</td>\n",
       "      <td>True</td>\n",
       "      <td>5004</td>\n",
       "      <td>0.994041</td>\n",
       "    </tr>\n",
       "    <tr>\n",
       "      <th>0</th>\n",
       "      <td>ULTRAKILL</td>\n",
       "      <td>True</td>\n",
       "      <td>5558</td>\n",
       "      <td>0.995344</td>\n",
       "    </tr>\n",
       "  </tbody>\n",
       "</table>\n",
       "<p>315 rows × 4 columns</p>\n",
       "</div>"
      ],
      "text/plain": [
       "                          app_name  recommended   count  porcentaje\n",
       "314                       Identity         True     439    0.243348\n",
       "313     RollerCoaster Tycoon World         True    1300    0.245098\n",
       "312                            SOS         True    1921    0.278406\n",
       "311                 Umbrella Corps         True     707    0.282236\n",
       "310                       NBA 2K18         True    5465    0.291965\n",
       "..                             ...          ...     ...         ...\n",
       "4                         Factorio         True  107111    0.989186\n",
       "3    The Henry Stickmin Collection         True   19211    0.990258\n",
       "2                     A Short Hike         True    5797    0.991449\n",
       "1                     Senren＊Banka         True    5004    0.994041\n",
       "0                        ULTRAKILL         True    5558    0.995344\n",
       "\n",
       "[315 rows x 4 columns]"
      ]
     },
     "execution_count": 71,
     "metadata": {},
     "output_type": "execute_result"
    }
   ],
   "source": [
    "df_percentages = df_percentages.sort_values(by=['porcentaje'])\n",
    "df_percentages"
   ]
  },
  {
   "cell_type": "code",
   "execution_count": 72,
   "id": "2f5312fe",
   "metadata": {},
   "outputs": [
    {
     "data": {
      "text/html": [
       "<div>\n",
       "<style scoped>\n",
       "    .dataframe tbody tr th:only-of-type {\n",
       "        vertical-align: middle;\n",
       "    }\n",
       "\n",
       "    .dataframe tbody tr th {\n",
       "        vertical-align: top;\n",
       "    }\n",
       "\n",
       "    .dataframe thead th {\n",
       "        text-align: right;\n",
       "    }\n",
       "</style>\n",
       "<table border=\"1\" class=\"dataframe\">\n",
       "  <thead>\n",
       "    <tr style=\"text-align: right;\">\n",
       "      <th></th>\n",
       "      <th>count</th>\n",
       "      <th>mean</th>\n",
       "      <th>std</th>\n",
       "      <th>min</th>\n",
       "      <th>25%</th>\n",
       "      <th>50%</th>\n",
       "      <th>75%</th>\n",
       "      <th>max</th>\n",
       "    </tr>\n",
       "  </thead>\n",
       "  <tbody>\n",
       "    <tr>\n",
       "      <th>count</th>\n",
       "      <td>315.0</td>\n",
       "      <td>60389.238095</td>\n",
       "      <td>119504.734523</td>\n",
       "      <td>89.000000</td>\n",
       "      <td>5019.000000</td>\n",
       "      <td>19335.00000</td>\n",
       "      <td>57671.500000</td>\n",
       "      <td>886417.000000</td>\n",
       "    </tr>\n",
       "    <tr>\n",
       "      <th>porcentaje</th>\n",
       "      <td>315.0</td>\n",
       "      <td>0.843161</td>\n",
       "      <td>0.169227</td>\n",
       "      <td>0.243348</td>\n",
       "      <td>0.803483</td>\n",
       "      <td>0.90075</td>\n",
       "      <td>0.963009</td>\n",
       "      <td>0.995344</td>\n",
       "    </tr>\n",
       "  </tbody>\n",
       "</table>\n",
       "</div>"
      ],
      "text/plain": [
       "            count          mean            std        min          25%  \\\n",
       "count       315.0  60389.238095  119504.734523  89.000000  5019.000000   \n",
       "porcentaje  315.0      0.843161       0.169227   0.243348     0.803483   \n",
       "\n",
       "                    50%           75%            max  \n",
       "count       19335.00000  57671.500000  886417.000000  \n",
       "porcentaje      0.90075      0.963009       0.995344  "
      ]
     },
     "execution_count": 72,
     "metadata": {},
     "output_type": "execute_result"
    }
   ],
   "source": [
    "df_percentages.describe().transpose()"
   ]
  },
  {
   "cell_type": "markdown",
   "id": "e4f2afce",
   "metadata": {},
   "source": [
    "Aquí podemos ver que la media gira en torno al 85%. En este caso vemos que hay una tendencia favorable en contraposición de lo que habíamos visto anteriormente. \n",
    "Es lógico que la media favorezca las buenas notas teniendo en cuenta que hay muchas más reviews positivas que negativas en la plataforma de Steam. \n",
    "El primer percentil acaba con 80% de reviews favorables por lo que vemos y sabemos de buena mano que hay muy pocos juegos que no lleguen al 50%"
   ]
  },
  {
   "cell_type": "markdown",
   "id": "b687bd23",
   "metadata": {},
   "source": [
    "Vamos a volver al caso de 'ATLAS' para ver que porcentaje de reviews positivas tiene"
   ]
  },
  {
   "cell_type": "code",
   "execution_count": 73,
   "id": "8e62d7b8",
   "metadata": {},
   "outputs": [
    {
     "data": {
      "text/html": [
       "<div>\n",
       "<style scoped>\n",
       "    .dataframe tbody tr th:only-of-type {\n",
       "        vertical-align: middle;\n",
       "    }\n",
       "\n",
       "    .dataframe tbody tr th {\n",
       "        vertical-align: top;\n",
       "    }\n",
       "\n",
       "    .dataframe thead th {\n",
       "        text-align: right;\n",
       "    }\n",
       "</style>\n",
       "<table border=\"1\" class=\"dataframe\">\n",
       "  <thead>\n",
       "    <tr style=\"text-align: right;\">\n",
       "      <th></th>\n",
       "      <th>app_name</th>\n",
       "      <th>recommended</th>\n",
       "      <th>count</th>\n",
       "      <th>porcentaje</th>\n",
       "    </tr>\n",
       "  </thead>\n",
       "  <tbody>\n",
       "    <tr>\n",
       "      <th>293</th>\n",
       "      <td>ATLAS</td>\n",
       "      <td>True</td>\n",
       "      <td>17290</td>\n",
       "      <td>0.46466</td>\n",
       "    </tr>\n",
       "  </tbody>\n",
       "</table>\n",
       "</div>"
      ],
      "text/plain": [
       "    app_name  recommended  count  porcentaje\n",
       "293    ATLAS         True  17290     0.46466"
      ]
     },
     "execution_count": 73,
     "metadata": {},
     "output_type": "execute_result"
    }
   ],
   "source": [
    "df_percentages = df_percentages.sort_values(by=['app_name'])\n",
    "df_percentages.iloc[[5]]"
   ]
  },
  {
   "cell_type": "markdown",
   "id": "b706ea1c",
   "metadata": {},
   "source": [
    "Como vemos ATLAS es uno de los pocos juegos que no aprueban. Esto sigue sin decirnos si tiene que ver con que la longitud de las reviews positivas sea mayor que la de las negativas en este caso. Más adelante estudiaremos otra correlación para intentar encontrar un sentido"
   ]
  },
  {
   "cell_type": "code",
   "execution_count": 82,
   "id": "df438234",
   "metadata": {
    "scrolled": true
   },
   "outputs": [
    {
     "data": {
      "image/png": "[encoded data removed]",
      "text/plain": [
       "<Figure size 432x288 with 1 Axes>"
      ]
     },
     "metadata": {
      "needs_background": "light"
     },
     "output_type": "display_data"
    },
    {
     "data": {
      "image/png": "[encoded data removed]",
      "text/plain": [
       "<Figure size 432x288 with 1 Axes>"
      ]
     },
     "metadata": {
      "needs_background": "light"
     },
     "output_type": "display_data"
    }
   ],
   "source": [
    "df_percentages = df_percentages.sort_values(by=['porcentaje'])\n",
    "toppercentages = df_percentages.tail(25)\n",
    "worstpercentages = df_percentages.head(25)\n",
    "fig1 = toppercentages.plot(x='app_name', y='porcentaje', kind='bar')\n",
    "fig2 = worstpercentages.plot(x='app_name', y='porcentaje', kind='bar')"
   ]
  },
  {
   "cell_type": "markdown",
   "id": "4a7d4334",
   "metadata": {},
   "source": [
    "Como vemos en las dos gráficas anteriores hay una gran diferencia entre los 25 juegos con mayor porcentaje de reseñas positivas y los 25 juegos con menor. "
   ]
  },
  {
   "cell_type": "markdown",
   "id": "9c06ab0f",
   "metadata": {},
   "source": [
    "### 6. Numero de reviews por juego e idioma "
   ]
  },
  {
   "cell_type": "code",
   "execution_count": 84,
   "id": "31e85b8a",
   "metadata": {},
   "outputs": [
    {
     "data": {
      "text/html": [
       "<div>\n",
       "<style scoped>\n",
       "    .dataframe tbody tr th:only-of-type {\n",
       "        vertical-align: middle;\n",
       "    }\n",
       "\n",
       "    .dataframe tbody tr th {\n",
       "        vertical-align: top;\n",
       "    }\n",
       "\n",
       "    .dataframe thead th {\n",
       "        text-align: right;\n",
       "    }\n",
       "</style>\n",
       "<table border=\"1\" class=\"dataframe\">\n",
       "  <thead>\n",
       "    <tr style=\"text-align: right;\">\n",
       "      <th></th>\n",
       "      <th>app_name</th>\n",
       "      <th>language</th>\n",
       "      <th>count</th>\n",
       "    </tr>\n",
       "  </thead>\n",
       "  <tbody>\n",
       "    <tr>\n",
       "      <th>5343</th>\n",
       "      <td>20XX</td>\n",
       "      <td>koreana</td>\n",
       "      <td>54</td>\n",
       "    </tr>\n",
       "    <tr>\n",
       "      <th>3222</th>\n",
       "      <td>20XX</td>\n",
       "      <td>italian</td>\n",
       "      <td>3</td>\n",
       "    </tr>\n",
       "    <tr>\n",
       "      <th>2346</th>\n",
       "      <td>20XX</td>\n",
       "      <td>french</td>\n",
       "      <td>54</td>\n",
       "    </tr>\n",
       "    <tr>\n",
       "      <th>3264</th>\n",
       "      <td>20XX</td>\n",
       "      <td>polish</td>\n",
       "      <td>4</td>\n",
       "    </tr>\n",
       "    <tr>\n",
       "      <th>4055</th>\n",
       "      <td>20XX</td>\n",
       "      <td>english</td>\n",
       "      <td>2593</td>\n",
       "    </tr>\n",
       "    <tr>\n",
       "      <th>...</th>\n",
       "      <td>...</td>\n",
       "      <td>...</td>\n",
       "      <td>...</td>\n",
       "    </tr>\n",
       "    <tr>\n",
       "      <th>2422</th>\n",
       "      <td>三国群英传8 Heroes of the Three Kingdoms 8</td>\n",
       "      <td>koreana</td>\n",
       "      <td>15</td>\n",
       "    </tr>\n",
       "    <tr>\n",
       "      <th>2469</th>\n",
       "      <td>三国群英传8 Heroes of the Three Kingdoms 8</td>\n",
       "      <td>vietnamese</td>\n",
       "      <td>2</td>\n",
       "    </tr>\n",
       "    <tr>\n",
       "      <th>16</th>\n",
       "      <td>三国群英传8 Heroes of the Three Kingdoms 8</td>\n",
       "      <td>tchinese</td>\n",
       "      <td>565</td>\n",
       "    </tr>\n",
       "    <tr>\n",
       "      <th>8017</th>\n",
       "      <td>三国群英传8 Heroes of the Three Kingdoms 8</td>\n",
       "      <td>english</td>\n",
       "      <td>65</td>\n",
       "    </tr>\n",
       "    <tr>\n",
       "      <th>275</th>\n",
       "      <td>三国群英传8 Heroes of the Three Kingdoms 8</td>\n",
       "      <td>schinese</td>\n",
       "      <td>7461</td>\n",
       "    </tr>\n",
       "  </tbody>\n",
       "</table>\n",
       "<p>8412 rows × 3 columns</p>\n",
       "</div>"
      ],
      "text/plain": [
       "                                   app_name    language  count\n",
       "5343                                   20XX     koreana     54\n",
       "3222                                   20XX     italian      3\n",
       "2346                                   20XX      french     54\n",
       "3264                                   20XX      polish      4\n",
       "4055                                   20XX     english   2593\n",
       "...                                     ...         ...    ...\n",
       "2422  三国群英传8 Heroes of the Three Kingdoms 8     koreana     15\n",
       "2469  三国群英传8 Heroes of the Three Kingdoms 8  vietnamese      2\n",
       "16    三国群英传8 Heroes of the Three Kingdoms 8    tchinese    565\n",
       "8017  三国群英传8 Heroes of the Three Kingdoms 8     english     65\n",
       "275   三国群英传8 Heroes of the Three Kingdoms 8    schinese   7461\n",
       "\n",
       "[8412 rows x 3 columns]"
      ]
     },
     "execution_count": 84,
     "metadata": {},
     "output_type": "execute_result"
    }
   ],
   "source": [
    "df_numreviews2 = pd.read_csv('ReviewsPerGameAndLanguage.csv')\n",
    "df_numreviews2 = df_numreviews2.sort_values(by=['app_name'])\n",
    "df_numreviews2"
   ]
  },
  {
   "cell_type": "markdown",
   "id": "716011c6",
   "metadata": {},
   "source": [
    "Una vez hemos obtenido este CSV nos damos cuenta de que tan solo es verdaderamente útil para tratar juegos específicos más que para sacar alguna conclusión general. Por esto vamos a volver al caso de 'ATLAS', para ver que ocurre en el único juego en el que hemos hecho distinción de momento. "
   ]
  },
  {
   "cell_type": "code",
   "execution_count": 85,
   "id": "abd26e42",
   "metadata": {},
   "outputs": [
    {
     "data": {
      "text/html": [
       "<div>\n",
       "<style scoped>\n",
       "    .dataframe tbody tr th:only-of-type {\n",
       "        vertical-align: middle;\n",
       "    }\n",
       "\n",
       "    .dataframe tbody tr th {\n",
       "        vertical-align: top;\n",
       "    }\n",
       "\n",
       "    .dataframe thead th {\n",
       "        text-align: right;\n",
       "    }\n",
       "</style>\n",
       "<table border=\"1\" class=\"dataframe\">\n",
       "  <thead>\n",
       "    <tr style=\"text-align: right;\">\n",
       "      <th></th>\n",
       "      <th>app_name</th>\n",
       "      <th>language</th>\n",
       "      <th>count</th>\n",
       "    </tr>\n",
       "  </thead>\n",
       "  <tbody>\n",
       "    <tr>\n",
       "      <th>7738</th>\n",
       "      <td>ATLAS</td>\n",
       "      <td>russian</td>\n",
       "      <td>2385</td>\n",
       "    </tr>\n",
       "    <tr>\n",
       "      <th>3850</th>\n",
       "      <td>ATLAS</td>\n",
       "      <td>english</td>\n",
       "      <td>19623</td>\n",
       "    </tr>\n",
       "    <tr>\n",
       "      <th>2791</th>\n",
       "      <td>ATLAS</td>\n",
       "      <td>ukrainian</td>\n",
       "      <td>16</td>\n",
       "    </tr>\n",
       "    <tr>\n",
       "      <th>5340</th>\n",
       "      <td>ATLAS</td>\n",
       "      <td>latam</td>\n",
       "      <td>156</td>\n",
       "    </tr>\n",
       "    <tr>\n",
       "      <th>5524</th>\n",
       "      <td>ATLAS</td>\n",
       "      <td>tchinese</td>\n",
       "      <td>166</td>\n",
       "    </tr>\n",
       "    <tr>\n",
       "      <th>5768</th>\n",
       "      <td>ATLAS</td>\n",
       "      <td>french</td>\n",
       "      <td>1562</td>\n",
       "    </tr>\n",
       "    <tr>\n",
       "      <th>5339</th>\n",
       "      <td>ATLAS</td>\n",
       "      <td>norwegian</td>\n",
       "      <td>84</td>\n",
       "    </tr>\n",
       "    <tr>\n",
       "      <th>5769</th>\n",
       "      <td>ATLAS</td>\n",
       "      <td>romanian</td>\n",
       "      <td>11</td>\n",
       "    </tr>\n",
       "    <tr>\n",
       "      <th>6441</th>\n",
       "      <td>ATLAS</td>\n",
       "      <td>spanish</td>\n",
       "      <td>2289</td>\n",
       "    </tr>\n",
       "    <tr>\n",
       "      <th>7079</th>\n",
       "      <td>ATLAS</td>\n",
       "      <td>swedish</td>\n",
       "      <td>157</td>\n",
       "    </tr>\n",
       "    <tr>\n",
       "      <th>2886</th>\n",
       "      <td>ATLAS</td>\n",
       "      <td>vietnamese</td>\n",
       "      <td>8</td>\n",
       "    </tr>\n",
       "    <tr>\n",
       "      <th>7836</th>\n",
       "      <td>ATLAS</td>\n",
       "      <td>japanese</td>\n",
       "      <td>171</td>\n",
       "    </tr>\n",
       "    <tr>\n",
       "      <th>813</th>\n",
       "      <td>ATLAS</td>\n",
       "      <td>czech</td>\n",
       "      <td>165</td>\n",
       "    </tr>\n",
       "    <tr>\n",
       "      <th>5161</th>\n",
       "      <td>ATLAS</td>\n",
       "      <td>turkish</td>\n",
       "      <td>480</td>\n",
       "    </tr>\n",
       "    <tr>\n",
       "      <th>2830</th>\n",
       "      <td>ATLAS</td>\n",
       "      <td>hungarian</td>\n",
       "      <td>130</td>\n",
       "    </tr>\n",
       "    <tr>\n",
       "      <th>2415</th>\n",
       "      <td>ATLAS</td>\n",
       "      <td>italian</td>\n",
       "      <td>228</td>\n",
       "    </tr>\n",
       "    <tr>\n",
       "      <th>2790</th>\n",
       "      <td>ATLAS</td>\n",
       "      <td>brazilian</td>\n",
       "      <td>684</td>\n",
       "    </tr>\n",
       "    <tr>\n",
       "      <th>645</th>\n",
       "      <td>ATLAS</td>\n",
       "      <td>german</td>\n",
       "      <td>3258</td>\n",
       "    </tr>\n",
       "    <tr>\n",
       "      <th>5880</th>\n",
       "      <td>ATLAS</td>\n",
       "      <td>schinese</td>\n",
       "      <td>4404</td>\n",
       "    </tr>\n",
       "    <tr>\n",
       "      <th>6839</th>\n",
       "      <td>ATLAS</td>\n",
       "      <td>danish</td>\n",
       "      <td>106</td>\n",
       "    </tr>\n",
       "    <tr>\n",
       "      <th>1456</th>\n",
       "      <td>ATLAS</td>\n",
       "      <td>bulgarian</td>\n",
       "      <td>5</td>\n",
       "    </tr>\n",
       "    <tr>\n",
       "      <th>7883</th>\n",
       "      <td>ATLAS</td>\n",
       "      <td>koreana</td>\n",
       "      <td>139</td>\n",
       "    </tr>\n",
       "    <tr>\n",
       "      <th>2926</th>\n",
       "      <td>ATLAS</td>\n",
       "      <td>dutch</td>\n",
       "      <td>227</td>\n",
       "    </tr>\n",
       "    <tr>\n",
       "      <th>3083</th>\n",
       "      <td>ATLAS</td>\n",
       "      <td>polish</td>\n",
       "      <td>344</td>\n",
       "    </tr>\n",
       "    <tr>\n",
       "      <th>8284</th>\n",
       "      <td>ATLAS</td>\n",
       "      <td>finnish</td>\n",
       "      <td>62</td>\n",
       "    </tr>\n",
       "    <tr>\n",
       "      <th>2080</th>\n",
       "      <td>ATLAS</td>\n",
       "      <td>greek</td>\n",
       "      <td>26</td>\n",
       "    </tr>\n",
       "    <tr>\n",
       "      <th>6756</th>\n",
       "      <td>ATLAS</td>\n",
       "      <td>portuguese</td>\n",
       "      <td>97</td>\n",
       "    </tr>\n",
       "    <tr>\n",
       "      <th>3260</th>\n",
       "      <td>ATLAS</td>\n",
       "      <td>thai</td>\n",
       "      <td>227</td>\n",
       "    </tr>\n",
       "  </tbody>\n",
       "</table>\n",
       "</div>"
      ],
      "text/plain": [
       "     app_name    language  count\n",
       "7738    ATLAS     russian   2385\n",
       "3850    ATLAS     english  19623\n",
       "2791    ATLAS   ukrainian     16\n",
       "5340    ATLAS       latam    156\n",
       "5524    ATLAS    tchinese    166\n",
       "5768    ATLAS      french   1562\n",
       "5339    ATLAS   norwegian     84\n",
       "5769    ATLAS    romanian     11\n",
       "6441    ATLAS     spanish   2289\n",
       "7079    ATLAS     swedish    157\n",
       "2886    ATLAS  vietnamese      8\n",
       "7836    ATLAS    japanese    171\n",
       "813     ATLAS       czech    165\n",
       "5161    ATLAS     turkish    480\n",
       "2830    ATLAS   hungarian    130\n",
       "2415    ATLAS     italian    228\n",
       "2790    ATLAS   brazilian    684\n",
       "645     ATLAS      german   3258\n",
       "5880    ATLAS    schinese   4404\n",
       "6839    ATLAS      danish    106\n",
       "1456    ATLAS   bulgarian      5\n",
       "7883    ATLAS     koreana    139\n",
       "2926    ATLAS       dutch    227\n",
       "3083    ATLAS      polish    344\n",
       "8284    ATLAS     finnish     62\n",
       "2080    ATLAS       greek     26\n",
       "6756    ATLAS  portuguese     97\n",
       "3260    ATLAS        thai    227"
      ]
     },
     "execution_count": 85,
     "metadata": {},
     "output_type": "execute_result"
    }
   ],
   "source": [
    "df_numreviews2.loc[df_numreviews2['app_name'] == 'ATLAS'] "
   ]
  },
  {
   "cell_type": "markdown",
   "id": "f74b2028",
   "metadata": {},
   "source": [
    "Vemos que hay mucha variedad de idiomas para tratarse de un juego con 37000 reseñas y que no llega al 50% en cuanto a porcentajes de reviews favorables.\n",
    "\n",
    "Sin embargo, por mucha variedad que haya vemos que predomina el inglés seguido del ruso y del español. ¿Esto va a ser la tónica general o es tan solo en este caso? Para resolver esta pregunta en el siguiente apartado vamos a estudiar los idiomas más utilizados en las reseñas de la plataforma"
   ]
  },
  {
   "cell_type": "markdown",
   "id": "0bd58bde",
   "metadata": {},
   "source": [
    "### 7. Idiomas más utilizados"
   ]
  },
  {
   "cell_type": "code",
   "execution_count": 89,
   "id": "25051903",
   "metadata": {},
   "outputs": [
    {
     "data": {
      "text/html": [
       "<div>\n",
       "<style scoped>\n",
       "    .dataframe tbody tr th:only-of-type {\n",
       "        vertical-align: middle;\n",
       "    }\n",
       "\n",
       "    .dataframe tbody tr th {\n",
       "        vertical-align: top;\n",
       "    }\n",
       "\n",
       "    .dataframe thead th {\n",
       "        text-align: right;\n",
       "    }\n",
       "</style>\n",
       "<table border=\"1\" class=\"dataframe\">\n",
       "  <thead>\n",
       "    <tr style=\"text-align: right;\">\n",
       "      <th></th>\n",
       "      <th>language</th>\n",
       "      <th>count</th>\n",
       "    </tr>\n",
       "  </thead>\n",
       "  <tbody>\n",
       "    <tr>\n",
       "      <th>27</th>\n",
       "      <td>vietnamese</td>\n",
       "      <td>6580</td>\n",
       "    </tr>\n",
       "    <tr>\n",
       "      <th>26</th>\n",
       "      <td>bulgarian</td>\n",
       "      <td>10454</td>\n",
       "    </tr>\n",
       "    <tr>\n",
       "      <th>25</th>\n",
       "      <td>greek</td>\n",
       "      <td>14472</td>\n",
       "    </tr>\n",
       "    <tr>\n",
       "      <th>24</th>\n",
       "      <td>ukrainian</td>\n",
       "      <td>21169</td>\n",
       "    </tr>\n",
       "    <tr>\n",
       "      <th>23</th>\n",
       "      <td>romanian</td>\n",
       "      <td>32730</td>\n",
       "    </tr>\n",
       "    <tr>\n",
       "      <th>22</th>\n",
       "      <td>norwegian</td>\n",
       "      <td>36797</td>\n",
       "    </tr>\n",
       "    <tr>\n",
       "      <th>21</th>\n",
       "      <td>finnish</td>\n",
       "      <td>54712</td>\n",
       "    </tr>\n",
       "    <tr>\n",
       "      <th>20</th>\n",
       "      <td>danish</td>\n",
       "      <td>55915</td>\n",
       "    </tr>\n",
       "    <tr>\n",
       "      <th>19</th>\n",
       "      <td>latam</td>\n",
       "      <td>70103</td>\n",
       "    </tr>\n",
       "    <tr>\n",
       "      <th>18</th>\n",
       "      <td>hungarian</td>\n",
       "      <td>71001</td>\n",
       "    </tr>\n",
       "    <tr>\n",
       "      <th>17</th>\n",
       "      <td>dutch</td>\n",
       "      <td>77555</td>\n",
       "    </tr>\n",
       "    <tr>\n",
       "      <th>16</th>\n",
       "      <td>swedish</td>\n",
       "      <td>80226</td>\n",
       "    </tr>\n",
       "    <tr>\n",
       "      <th>15</th>\n",
       "      <td>portuguese</td>\n",
       "      <td>81386</td>\n",
       "    </tr>\n",
       "    <tr>\n",
       "      <th>14</th>\n",
       "      <td>japanese</td>\n",
       "      <td>81754</td>\n",
       "    </tr>\n",
       "    <tr>\n",
       "      <th>13</th>\n",
       "      <td>thai</td>\n",
       "      <td>127503</td>\n",
       "    </tr>\n",
       "    <tr>\n",
       "      <th>12</th>\n",
       "      <td>italian</td>\n",
       "      <td>133307</td>\n",
       "    </tr>\n",
       "    <tr>\n",
       "      <th>11</th>\n",
       "      <td>czech</td>\n",
       "      <td>133980</td>\n",
       "    </tr>\n",
       "    <tr>\n",
       "      <th>10</th>\n",
       "      <td>tchinese</td>\n",
       "      <td>218203</td>\n",
       "    </tr>\n",
       "    <tr>\n",
       "      <th>9</th>\n",
       "      <td>polish</td>\n",
       "      <td>495529</td>\n",
       "    </tr>\n",
       "    <tr>\n",
       "      <th>8</th>\n",
       "      <td>french</td>\n",
       "      <td>541751</td>\n",
       "    </tr>\n",
       "    <tr>\n",
       "      <th>7</th>\n",
       "      <td>koreana</td>\n",
       "      <td>613632</td>\n",
       "    </tr>\n",
       "    <tr>\n",
       "      <th>6</th>\n",
       "      <td>turkish</td>\n",
       "      <td>635868</td>\n",
       "    </tr>\n",
       "    <tr>\n",
       "      <th>5</th>\n",
       "      <td>german</td>\n",
       "      <td>752596</td>\n",
       "    </tr>\n",
       "    <tr>\n",
       "      <th>4</th>\n",
       "      <td>spanish</td>\n",
       "      <td>813320</td>\n",
       "    </tr>\n",
       "    <tr>\n",
       "      <th>3</th>\n",
       "      <td>brazilian</td>\n",
       "      <td>837524</td>\n",
       "    </tr>\n",
       "    <tr>\n",
       "      <th>2</th>\n",
       "      <td>russian</td>\n",
       "      <td>2348900</td>\n",
       "    </tr>\n",
       "    <tr>\n",
       "      <th>1</th>\n",
       "      <td>schinese</td>\n",
       "      <td>3764967</td>\n",
       "    </tr>\n",
       "    <tr>\n",
       "      <th>0</th>\n",
       "      <td>english</td>\n",
       "      <td>9635437</td>\n",
       "    </tr>\n",
       "  </tbody>\n",
       "</table>\n",
       "</div>"
      ],
      "text/plain": [
       "      language    count\n",
       "27  vietnamese     6580\n",
       "26   bulgarian    10454\n",
       "25       greek    14472\n",
       "24   ukrainian    21169\n",
       "23    romanian    32730\n",
       "22   norwegian    36797\n",
       "21     finnish    54712\n",
       "20      danish    55915\n",
       "19       latam    70103\n",
       "18   hungarian    71001\n",
       "17       dutch    77555\n",
       "16     swedish    80226\n",
       "15  portuguese    81386\n",
       "14    japanese    81754\n",
       "13        thai   127503\n",
       "12     italian   133307\n",
       "11       czech   133980\n",
       "10    tchinese   218203\n",
       "9       polish   495529\n",
       "8       french   541751\n",
       "7      koreana   613632\n",
       "6      turkish   635868\n",
       "5       german   752596\n",
       "4      spanish   813320\n",
       "3    brazilian   837524\n",
       "2      russian  2348900\n",
       "1     schinese  3764967\n",
       "0      english  9635437"
      ]
     },
     "execution_count": 89,
     "metadata": {},
     "output_type": "execute_result"
    }
   ],
   "source": [
    "df_languages = pd.read_csv('LanguagesUsed.csv')\n",
    "df_languages = df_languages.sort_values(by=['count'])\n",
    "df_languages"
   ]
  },
  {
   "cell_type": "markdown",
   "id": "8fa307b5",
   "metadata": {},
   "source": [
    "En el apartado anterior nos preguntabamos si lo normal era que el inglés fuese el idioma más utilizado seguido del ruso y del español. En la tabla anterior podemos ver que efectivamente el inglés si es el idioma más utilizado aunque el que le sigue es el chino, por encima del ruso. El español alcanza la quinta posición."
   ]
  },
  {
   "cell_type": "code",
   "execution_count": 94,
   "id": "81c9f9b8",
   "metadata": {},
   "outputs": [
    {
     "data": {
      "image/png": "[encoded data removed]",
      "text/plain": [
       "<Figure size 432x288 with 1 Axes>"
      ]
     },
     "metadata": {},
     "output_type": "display_data"
    }
   ],
   "source": [
    "languages = list(df_languages['language'])\n",
    "nreviews = list(df_languages['count'])\n",
    "plt.pie(nreviews, labels=languages, autopct=\"%0.1f %%\")\n",
    "plt.show()"
   ]
  },
  {
   "cell_type": "markdown",
   "id": "7b2012e7",
   "metadata": {},
   "source": [
    "Vemos que el inglés monopoliza hasta un 44.3% todas las reseñas que se han extraído del conjunto de datos. El chino y el ruso también ocupan un 17.3% y un 10.8% respectivamente. \n",
    "Entre estos tres idiomas suman un 72,4% de todas las reseñas de la plataforma, casi 3/4. No es tanto si tenemos en cuenta la gran cantidad de población mundial que tiene el inglés o el chino como primera lengua, y también hay que tener en cuenta la accesibilidad a steam ya que tiene más facil acceder a esta plataforma un británico que una persona que viva en algún pais subdesarrollado "
   ]
  },
  {
   "cell_type": "markdown",
   "id": "341530ea",
   "metadata": {},
   "source": [
    "### 8. Porcentajes de reviews favorables segun el idioma"
   ]
  },
  {
   "cell_type": "code",
   "execution_count": 108,
   "id": "048d629b",
   "metadata": {},
   "outputs": [
    {
     "data": {
      "text/html": [
       "<div>\n",
       "<style scoped>\n",
       "    .dataframe tbody tr th:only-of-type {\n",
       "        vertical-align: middle;\n",
       "    }\n",
       "\n",
       "    .dataframe tbody tr th {\n",
       "        vertical-align: top;\n",
       "    }\n",
       "\n",
       "    .dataframe thead th {\n",
       "        text-align: right;\n",
       "    }\n",
       "</style>\n",
       "<table border=\"1\" class=\"dataframe\">\n",
       "  <thead>\n",
       "    <tr style=\"text-align: right;\">\n",
       "      <th></th>\n",
       "      <th>recommended</th>\n",
       "      <th>language</th>\n",
       "      <th>count</th>\n",
       "      <th>porcentaje</th>\n",
       "    </tr>\n",
       "  </thead>\n",
       "  <tbody>\n",
       "    <tr>\n",
       "      <th>41</th>\n",
       "      <td>True</td>\n",
       "      <td>schinese</td>\n",
       "      <td>2902943</td>\n",
       "      <td>0.771041</td>\n",
       "    </tr>\n",
       "    <tr>\n",
       "      <th>25</th>\n",
       "      <td>True</td>\n",
       "      <td>japanese</td>\n",
       "      <td>65848</td>\n",
       "      <td>0.805441</td>\n",
       "    </tr>\n",
       "    <tr>\n",
       "      <th>46</th>\n",
       "      <td>True</td>\n",
       "      <td>tchinese</td>\n",
       "      <td>182088</td>\n",
       "      <td>0.834489</td>\n",
       "    </tr>\n",
       "    <tr>\n",
       "      <th>27</th>\n",
       "      <td>True</td>\n",
       "      <td>koreana</td>\n",
       "      <td>516673</td>\n",
       "      <td>0.841992</td>\n",
       "    </tr>\n",
       "    <tr>\n",
       "      <th>16</th>\n",
       "      <td>True</td>\n",
       "      <td>german</td>\n",
       "      <td>666223</td>\n",
       "      <td>0.885233</td>\n",
       "    </tr>\n",
       "    <tr>\n",
       "      <th>10</th>\n",
       "      <td>True</td>\n",
       "      <td>english</td>\n",
       "      <td>8584444</td>\n",
       "      <td>0.890924</td>\n",
       "    </tr>\n",
       "    <tr>\n",
       "      <th>39</th>\n",
       "      <td>True</td>\n",
       "      <td>russian</td>\n",
       "      <td>2095434</td>\n",
       "      <td>0.892092</td>\n",
       "    </tr>\n",
       "    <tr>\n",
       "      <th>23</th>\n",
       "      <td>True</td>\n",
       "      <td>italian</td>\n",
       "      <td>120023</td>\n",
       "      <td>0.900350</td>\n",
       "    </tr>\n",
       "    <tr>\n",
       "      <th>2</th>\n",
       "      <td>True</td>\n",
       "      <td>bulgarian</td>\n",
       "      <td>9434</td>\n",
       "      <td>0.902430</td>\n",
       "    </tr>\n",
       "    <tr>\n",
       "      <th>51</th>\n",
       "      <td>True</td>\n",
       "      <td>turkish</td>\n",
       "      <td>573984</td>\n",
       "      <td>0.902678</td>\n",
       "    </tr>\n",
       "    <tr>\n",
       "      <th>15</th>\n",
       "      <td>True</td>\n",
       "      <td>french</td>\n",
       "      <td>490391</td>\n",
       "      <td>0.905196</td>\n",
       "    </tr>\n",
       "    <tr>\n",
       "      <th>48</th>\n",
       "      <td>True</td>\n",
       "      <td>thai</td>\n",
       "      <td>116175</td>\n",
       "      <td>0.911155</td>\n",
       "    </tr>\n",
       "    <tr>\n",
       "      <th>18</th>\n",
       "      <td>True</td>\n",
       "      <td>greek</td>\n",
       "      <td>13262</td>\n",
       "      <td>0.916390</td>\n",
       "    </tr>\n",
       "    <tr>\n",
       "      <th>30</th>\n",
       "      <td>True</td>\n",
       "      <td>norwegian</td>\n",
       "      <td>33761</td>\n",
       "      <td>0.917493</td>\n",
       "    </tr>\n",
       "    <tr>\n",
       "      <th>55</th>\n",
       "      <td>True</td>\n",
       "      <td>vietnamese</td>\n",
       "      <td>6049</td>\n",
       "      <td>0.919301</td>\n",
       "    </tr>\n",
       "    <tr>\n",
       "      <th>12</th>\n",
       "      <td>True</td>\n",
       "      <td>finnish</td>\n",
       "      <td>50318</td>\n",
       "      <td>0.919689</td>\n",
       "    </tr>\n",
       "    <tr>\n",
       "      <th>6</th>\n",
       "      <td>True</td>\n",
       "      <td>danish</td>\n",
       "      <td>51428</td>\n",
       "      <td>0.919753</td>\n",
       "    </tr>\n",
       "    <tr>\n",
       "      <th>9</th>\n",
       "      <td>True</td>\n",
       "      <td>dutch</td>\n",
       "      <td>71351</td>\n",
       "      <td>0.920005</td>\n",
       "    </tr>\n",
       "    <tr>\n",
       "      <th>20</th>\n",
       "      <td>True</td>\n",
       "      <td>hungarian</td>\n",
       "      <td>65501</td>\n",
       "      <td>0.922536</td>\n",
       "    </tr>\n",
       "    <tr>\n",
       "      <th>52</th>\n",
       "      <td>True</td>\n",
       "      <td>ukrainian</td>\n",
       "      <td>19584</td>\n",
       "      <td>0.925126</td>\n",
       "    </tr>\n",
       "    <tr>\n",
       "      <th>44</th>\n",
       "      <td>True</td>\n",
       "      <td>swedish</td>\n",
       "      <td>74453</td>\n",
       "      <td>0.928041</td>\n",
       "    </tr>\n",
       "    <tr>\n",
       "      <th>42</th>\n",
       "      <td>True</td>\n",
       "      <td>spanish</td>\n",
       "      <td>754956</td>\n",
       "      <td>0.928240</td>\n",
       "    </tr>\n",
       "    <tr>\n",
       "      <th>4</th>\n",
       "      <td>True</td>\n",
       "      <td>czech</td>\n",
       "      <td>124377</td>\n",
       "      <td>0.928325</td>\n",
       "    </tr>\n",
       "    <tr>\n",
       "      <th>1</th>\n",
       "      <td>True</td>\n",
       "      <td>brazilian</td>\n",
       "      <td>790634</td>\n",
       "      <td>0.944014</td>\n",
       "    </tr>\n",
       "    <tr>\n",
       "      <th>32</th>\n",
       "      <td>True</td>\n",
       "      <td>polish</td>\n",
       "      <td>468655</td>\n",
       "      <td>0.945767</td>\n",
       "    </tr>\n",
       "    <tr>\n",
       "      <th>35</th>\n",
       "      <td>True</td>\n",
       "      <td>portuguese</td>\n",
       "      <td>77026</td>\n",
       "      <td>0.946428</td>\n",
       "    </tr>\n",
       "    <tr>\n",
       "      <th>29</th>\n",
       "      <td>True</td>\n",
       "      <td>latam</td>\n",
       "      <td>66350</td>\n",
       "      <td>0.946464</td>\n",
       "    </tr>\n",
       "    <tr>\n",
       "      <th>36</th>\n",
       "      <td>True</td>\n",
       "      <td>romanian</td>\n",
       "      <td>31245</td>\n",
       "      <td>0.954629</td>\n",
       "    </tr>\n",
       "  </tbody>\n",
       "</table>\n",
       "</div>"
      ],
      "text/plain": [
       "    recommended    language    count  porcentaje\n",
       "41         True    schinese  2902943    0.771041\n",
       "25         True    japanese    65848    0.805441\n",
       "46         True    tchinese   182088    0.834489\n",
       "27         True     koreana   516673    0.841992\n",
       "16         True      german   666223    0.885233\n",
       "10         True     english  8584444    0.890924\n",
       "39         True     russian  2095434    0.892092\n",
       "23         True     italian   120023    0.900350\n",
       "2          True   bulgarian     9434    0.902430\n",
       "51         True     turkish   573984    0.902678\n",
       "15         True      french   490391    0.905196\n",
       "48         True        thai   116175    0.911155\n",
       "18         True       greek    13262    0.916390\n",
       "30         True   norwegian    33761    0.917493\n",
       "55         True  vietnamese     6049    0.919301\n",
       "12         True     finnish    50318    0.919689\n",
       "6          True      danish    51428    0.919753\n",
       "9          True       dutch    71351    0.920005\n",
       "20         True   hungarian    65501    0.922536\n",
       "52         True   ukrainian    19584    0.925126\n",
       "44         True     swedish    74453    0.928041\n",
       "42         True     spanish   754956    0.928240\n",
       "4          True       czech   124377    0.928325\n",
       "1          True   brazilian   790634    0.944014\n",
       "32         True      polish   468655    0.945767\n",
       "35         True  portuguese    77026    0.946428\n",
       "29         True       latam    66350    0.946464\n",
       "36         True    romanian    31245    0.954629"
      ]
     },
     "execution_count": 108,
     "metadata": {},
     "output_type": "execute_result"
    }
   ],
   "source": [
    "df_percentages_languages = pd.read_csv('LanguagePercentageRecommended.csv')\n",
    "df_percentages_languages = df_percentages_languages[df_percentages_languages['recommended'] == 1]\n",
    "df_percentages_languages = df_percentages_languages.sort_values(by=['porcentaje'])\n",
    "df_percentages_languages"
   ]
  },
  {
   "cell_type": "markdown",
   "id": "f7d79060",
   "metadata": {},
   "source": [
    "En la celda anterior hemos filtrado para mostrar unicamente el porcentaje de reviews favorables ya que el de reviews negativas se puede calcular restando el anterior a uno. \n",
    "\n",
    "Como vemos nos encontramos con una tónica favorable como cabía esperar pero nos sorprende china. Las reviews que se han redactado en chino suelen ser un poco más negativas que en el resto de idiomas. Pero no solo en chino, también en japonés y coreano. Parece indicar que en Asia hay una tendencia más exigente a la hora de recomendar un juego que en occidente. \n",
    "\n",
    "También vemos que el inglés está en una posición relativamente baja teniendo en cuenta que es el idioma más utilizado. ¿Cuanta más reseñas haya en un idioma, es más probable que haya mayor porcentaje de reviews negativas? Lo resolveremos en el siguiente apartado"
   ]
  },
  {
   "cell_type": "code",
   "execution_count": 114,
   "id": "64abebef",
   "metadata": {},
   "outputs": [
    {
     "data": {
      "text/html": [
       "<div>\n",
       "<style scoped>\n",
       "    .dataframe tbody tr th:only-of-type {\n",
       "        vertical-align: middle;\n",
       "    }\n",
       "\n",
       "    .dataframe tbody tr th {\n",
       "        vertical-align: top;\n",
       "    }\n",
       "\n",
       "    .dataframe thead th {\n",
       "        text-align: right;\n",
       "    }\n",
       "</style>\n",
       "<table border=\"1\" class=\"dataframe\">\n",
       "  <thead>\n",
       "    <tr style=\"text-align: right;\">\n",
       "      <th></th>\n",
       "      <th>count</th>\n",
       "      <th>mean</th>\n",
       "      <th>std</th>\n",
       "      <th>min</th>\n",
       "      <th>25%</th>\n",
       "      <th>50%</th>\n",
       "      <th>75%</th>\n",
       "      <th>max</th>\n",
       "    </tr>\n",
       "  </thead>\n",
       "  <tbody>\n",
       "    <tr>\n",
       "      <th>count</th>\n",
       "      <td>28.0</td>\n",
       "      <td>679378.928571</td>\n",
       "      <td>1.682113e+06</td>\n",
       "      <td>6049.000000</td>\n",
       "      <td>51150.500000</td>\n",
       "      <td>96600.500000</td>\n",
       "      <td>531000.750000</td>\n",
       "      <td>8.584444e+06</td>\n",
       "    </tr>\n",
       "    <tr>\n",
       "      <th>porcentaje</th>\n",
       "      <td>28.0</td>\n",
       "      <td>0.904472</td>\n",
       "      <td>4.310940e-02</td>\n",
       "      <td>0.771041</td>\n",
       "      <td>0.898286</td>\n",
       "      <td>0.918397</td>\n",
       "      <td>0.928091</td>\n",
       "      <td>9.546288e-01</td>\n",
       "    </tr>\n",
       "  </tbody>\n",
       "</table>\n",
       "</div>"
      ],
      "text/plain": [
       "            count           mean           std          min           25%  \\\n",
       "count        28.0  679378.928571  1.682113e+06  6049.000000  51150.500000   \n",
       "porcentaje   28.0       0.904472  4.310940e-02     0.771041      0.898286   \n",
       "\n",
       "                     50%            75%           max  \n",
       "count       96600.500000  531000.750000  8.584444e+06  \n",
       "porcentaje      0.918397       0.928091  9.546288e-01  "
      ]
     },
     "execution_count": 114,
     "metadata": {},
     "output_type": "execute_result"
    }
   ],
   "source": [
    "df_percentages_languages.describe().transpose()"
   ]
  },
  {
   "cell_type": "markdown",
   "id": "8854e231",
   "metadata": {},
   "source": [
    "Aquí observamos que la media es de 90%"
   ]
  },
  {
   "cell_type": "markdown",
   "id": "0e060d9b",
   "metadata": {},
   "source": [
    "### 9. Correlación entre numero de reviews por idioma y porcentajes de reviews positivas"
   ]
  },
  {
   "cell_type": "code",
   "execution_count": 116,
   "id": "d89b2373",
   "metadata": {},
   "outputs": [
    {
     "data": {
      "image/png": "[encoded data removed]",
      "text/plain": [
       "<Figure size 432x288 with 1 Axes>"
      ]
     },
     "metadata": {
      "needs_background": "light"
     },
     "output_type": "display_data"
    },
    {
     "name": "stdout",
     "output_type": "stream",
     "text": [
      "[[ 1.         -0.25974968]\n",
      " [-0.25974968  1.        ]]\n"
     ]
    }
   ],
   "source": [
    "x = list(df_percentages_languages['count'])\n",
    "y = list(df_percentages_languages['porcentaje'])\n",
    "plt.scatter(x, y)\n",
    "plt.title('Correlacion entre numero de reseñas de cada idioma y porcentaje de reviews positivas')\n",
    "plt.xlabel('Numero de reseñas')\n",
    "plt.ylabel('Porcentaje de positivas')\n",
    "plt.show()\n",
    "print(np.corrcoef(x, y))"
   ]
  },
  {
   "cell_type": "markdown",
   "id": "6109f2e2",
   "metadata": {},
   "source": [
    "En el anterior apartado nos preguntabamos si había alguna correlación entre el número de reseñas que hay en un idioma y el porcentaje de reseñas positivas que tiene dicho idioma. Aquí vemos que no. La correlación es muy baja, tan solo de un 0.25. \n",
    "\n",
    "Es por esto por lo que no podemos asegurar que cuantas más reseñas haya en un idioma, mayor es el porcentaje de reviews negativas. Aunque sí que sigue la tendencia, el valor de correlación no es lo suficientemente alto para afirmarlo"
   ]
  },
  {
   "cell_type": "markdown",
   "id": "7d68ce26",
   "metadata": {},
   "source": [
    "### 10. Las 30 reviews con mayor 'helpful votes'"
   ]
  },
  {
   "cell_type": "code",
   "execution_count": 117,
   "id": "e6ee2ba3",
   "metadata": {
    "scrolled": true
   },
   "outputs": [
    {
     "data": {
      "text/html": [
       "<div>\n",
       "<style scoped>\n",
       "    .dataframe tbody tr th:only-of-type {\n",
       "        vertical-align: middle;\n",
       "    }\n",
       "\n",
       "    .dataframe tbody tr th {\n",
       "        vertical-align: top;\n",
       "    }\n",
       "\n",
       "    .dataframe thead th {\n",
       "        text-align: right;\n",
       "    }\n",
       "</style>\n",
       "<table border=\"1\" class=\"dataframe\">\n",
       "  <thead>\n",
       "    <tr style=\"text-align: right;\">\n",
       "      <th></th>\n",
       "      <th>app_name</th>\n",
       "      <th>review</th>\n",
       "    </tr>\n",
       "  </thead>\n",
       "  <tbody>\n",
       "    <tr>\n",
       "      <th>0</th>\n",
       "      <td>The Witcher 3: Wild Hunt</td>\n",
       "      <td>🎁\\n🎁’[h1] [b]‘官方奖励免费活动链接:→  https://usnhskhf.w...</td>\n",
       "    </tr>\n",
       "    <tr>\n",
       "      <th>1</th>\n",
       "      <td>The Witcher 3: Wild Hunt</td>\n",
       "      <td>寻路功能真的有点阴间，总体上讲还是很不错的游戏</td>\n",
       "    </tr>\n",
       "    <tr>\n",
       "      <th>2</th>\n",
       "      <td>The Witcher 3: Wild Hunt</td>\n",
       "      <td>Se um dia alguém falar que esse jogo é ruim na...</td>\n",
       "    </tr>\n",
       "    <tr>\n",
       "      <th>3</th>\n",
       "      <td>The Witcher 3: Wild Hunt</td>\n",
       "      <td>不玩此生遗憾，RPG游戏里的天花板，太吸引人了</td>\n",
       "    </tr>\n",
       "    <tr>\n",
       "      <th>4</th>\n",
       "      <td>The Witcher 3: Wild Hunt</td>\n",
       "      <td>拔DIAO无情打桩机--杰洛特!!!</td>\n",
       "    </tr>\n",
       "    <tr>\n",
       "      <th>5</th>\n",
       "      <td>The Witcher 3: Wild Hunt</td>\n",
       "      <td>巫师3NB</td>\n",
       "    </tr>\n",
       "    <tr>\n",
       "      <th>6</th>\n",
       "      <td>The Witcher 3: Wild Hunt</td>\n",
       "      <td>One of the best RPG's of all time, worthy of a...</td>\n",
       "    </tr>\n",
       "    <tr>\n",
       "      <th>7</th>\n",
       "      <td>The Witcher 3: Wild Hunt</td>\n",
       "      <td>大作</td>\n",
       "    </tr>\n",
       "    <tr>\n",
       "      <th>8</th>\n",
       "      <td>The Witcher 3: Wild Hunt</td>\n",
       "      <td>good story, good graphics. lots to do.</td>\n",
       "    </tr>\n",
       "    <tr>\n",
       "      <th>9</th>\n",
       "      <td>The Witcher 3: Wild Hunt</td>\n",
       "      <td>dis gud,</td>\n",
       "    </tr>\n",
       "    <tr>\n",
       "      <th>10</th>\n",
       "      <td>The Witcher 3: Wild Hunt</td>\n",
       "      <td>.</td>\n",
       "    </tr>\n",
       "    <tr>\n",
       "      <th>11</th>\n",
       "      <td>The Witcher 3: Wild Hunt</td>\n",
       "      <td>年度最佳的作品，没啥好夸的，神作</td>\n",
       "    </tr>\n",
       "    <tr>\n",
       "      <th>12</th>\n",
       "      <td>The Witcher 3: Wild Hunt</td>\n",
       "      <td>great game</td>\n",
       "    </tr>\n",
       "    <tr>\n",
       "      <th>13</th>\n",
       "      <td>The Witcher 3: Wild Hunt</td>\n",
       "      <td>神作！不bb</td>\n",
       "    </tr>\n",
       "    <tr>\n",
       "      <th>14</th>\n",
       "      <td>The Witcher 3: Wild Hunt</td>\n",
       "      <td>Шикарная игра с отличным сюжетом, неплохой гра...</td>\n",
       "    </tr>\n",
       "    <tr>\n",
       "      <th>15</th>\n",
       "      <td>The Witcher 3: Wild Hunt</td>\n",
       "      <td>什么?你儿子失踪了?什么?这栋房子闹鬼?什么?你猜到我要玩\\来句昆特牌\\\"的梗?</td>\n",
       "    </tr>\n",
       "    <tr>\n",
       "      <th>16</th>\n",
       "      <td>抱歉这个梗我玩一辈子(狗头)\"</td>\n",
       "      <td>NaN</td>\n",
       "    </tr>\n",
       "    <tr>\n",
       "      <th>17</th>\n",
       "      <td>The Witcher 3: Wild Hunt</td>\n",
       "      <td>Замечательная карточная игра в антураже фэнтез...</td>\n",
       "    </tr>\n",
       "    <tr>\n",
       "      <th>18</th>\n",
       "      <td>The Witcher 3: Wild Hunt</td>\n",
       "      <td>가성비 짱</td>\n",
       "    </tr>\n",
       "    <tr>\n",
       "      <th>19</th>\n",
       "      <td>The Witcher 3: Wild Hunt</td>\n",
       "      <td>The witcher 3 es un gran juego RPG, permite gr...</td>\n",
       "    </tr>\n",
       "    <tr>\n",
       "      <th>20</th>\n",
       "      <td>The Witcher 3: Wild Hunt</td>\n",
       "      <td>当你玩进去之后，一切都顺理成章了起来</td>\n",
       "    </tr>\n",
       "    <tr>\n",
       "      <th>21</th>\n",
       "      <td>The Witcher 3: Wild Hunt</td>\n",
       "      <td>剑舞天下无敌！！</td>\n",
       "    </tr>\n",
       "    <tr>\n",
       "      <th>22</th>\n",
       "      <td>The Witcher 3: Wild Hunt</td>\n",
       "      <td>favorite game of all time cant wait for the Ne...</td>\n",
       "    </tr>\n",
       "    <tr>\n",
       "      <th>23</th>\n",
       "      <td>The Witcher 3: Wild Hunt</td>\n",
       "      <td>打桩</td>\n",
       "    </tr>\n",
       "    <tr>\n",
       "      <th>24</th>\n",
       "      <td>The Witcher 3: Wild Hunt</td>\n",
       "      <td>Why wouldn't you get this</td>\n",
       "    </tr>\n",
       "    <tr>\n",
       "      <th>25</th>\n",
       "      <td>The Witcher 3: Wild Hunt</td>\n",
       "      <td>it is ok</td>\n",
       "    </tr>\n",
       "    <tr>\n",
       "      <th>26</th>\n",
       "      <td>The Witcher 3: Wild Hunt</td>\n",
       "      <td>worth</td>\n",
       "    </tr>\n",
       "    <tr>\n",
       "      <th>27</th>\n",
       "      <td>The Witcher 3: Wild Hunt</td>\n",
       "      <td>Isn't Geralt hot enough to get both Yennefer a...</td>\n",
       "    </tr>\n",
       "    <tr>\n",
       "      <th>28</th>\n",
       "      <td>The Witcher 3: Wild Hunt</td>\n",
       "      <td>Very Fun, Would play again!</td>\n",
       "    </tr>\n",
       "    <tr>\n",
       "      <th>29</th>\n",
       "      <td>The Witcher 3: Wild Hunt</td>\n",
       "      <td>NICE GAME</td>\n",
       "    </tr>\n",
       "    <tr>\n",
       "      <th>30</th>\n",
       "      <td>The Witcher 3: Wild Hunt</td>\n",
       "      <td>Más optimizado que el 2, me corre en una Lapto...</td>\n",
       "    </tr>\n",
       "    <tr>\n",
       "      <th>31</th>\n",
       "      <td>The Witcher 3: Wild Hunt</td>\n",
       "      <td>bom demais</td>\n",
       "    </tr>\n",
       "  </tbody>\n",
       "</table>\n",
       "</div>"
      ],
      "text/plain": [
       "                    app_name  \\\n",
       "0   The Witcher 3: Wild Hunt   \n",
       "1   The Witcher 3: Wild Hunt   \n",
       "2   The Witcher 3: Wild Hunt   \n",
       "3   The Witcher 3: Wild Hunt   \n",
       "4   The Witcher 3: Wild Hunt   \n",
       "5   The Witcher 3: Wild Hunt   \n",
       "6   The Witcher 3: Wild Hunt   \n",
       "7   The Witcher 3: Wild Hunt   \n",
       "8   The Witcher 3: Wild Hunt   \n",
       "9   The Witcher 3: Wild Hunt   \n",
       "10  The Witcher 3: Wild Hunt   \n",
       "11  The Witcher 3: Wild Hunt   \n",
       "12  The Witcher 3: Wild Hunt   \n",
       "13  The Witcher 3: Wild Hunt   \n",
       "14  The Witcher 3: Wild Hunt   \n",
       "15  The Witcher 3: Wild Hunt   \n",
       "16           抱歉这个梗我玩一辈子(狗头)\"   \n",
       "17  The Witcher 3: Wild Hunt   \n",
       "18  The Witcher 3: Wild Hunt   \n",
       "19  The Witcher 3: Wild Hunt   \n",
       "20  The Witcher 3: Wild Hunt   \n",
       "21  The Witcher 3: Wild Hunt   \n",
       "22  The Witcher 3: Wild Hunt   \n",
       "23  The Witcher 3: Wild Hunt   \n",
       "24  The Witcher 3: Wild Hunt   \n",
       "25  The Witcher 3: Wild Hunt   \n",
       "26  The Witcher 3: Wild Hunt   \n",
       "27  The Witcher 3: Wild Hunt   \n",
       "28  The Witcher 3: Wild Hunt   \n",
       "29  The Witcher 3: Wild Hunt   \n",
       "30  The Witcher 3: Wild Hunt   \n",
       "31  The Witcher 3: Wild Hunt   \n",
       "\n",
       "                                               review  \n",
       "0   🎁\\n🎁’[h1] [b]‘官方奖励免费活动链接:→  https://usnhskhf.w...  \n",
       "1                             寻路功能真的有点阴间，总体上讲还是很不错的游戏  \n",
       "2   Se um dia alguém falar que esse jogo é ruim na...  \n",
       "3                             不玩此生遗憾，RPG游戏里的天花板，太吸引人了  \n",
       "4                                  拔DIAO无情打桩机--杰洛特!!!  \n",
       "5                                               巫师3NB  \n",
       "6   One of the best RPG's of all time, worthy of a...  \n",
       "7                                                  大作  \n",
       "8              good story, good graphics. lots to do.  \n",
       "9                                            dis gud,  \n",
       "10                                                  .  \n",
       "11                                   年度最佳的作品，没啥好夸的，神作  \n",
       "12                                         great game  \n",
       "13                                             神作！不bb  \n",
       "14  Шикарная игра с отличным сюжетом, неплохой гра...  \n",
       "15           什么?你儿子失踪了?什么?这栋房子闹鬼?什么?你猜到我要玩\\来句昆特牌\\\"的梗?  \n",
       "16                                                NaN  \n",
       "17  Замечательная карточная игра в антураже фэнтез...  \n",
       "18                                              가성비 짱  \n",
       "19  The witcher 3 es un gran juego RPG, permite gr...  \n",
       "20                                 当你玩进去之后，一切都顺理成章了起来  \n",
       "21                                           剑舞天下无敌！！  \n",
       "22  favorite game of all time cant wait for the Ne...  \n",
       "23                                                 打桩  \n",
       "24                          Why wouldn't you get this  \n",
       "25                                           it is ok  \n",
       "26                                              worth  \n",
       "27  Isn't Geralt hot enough to get both Yennefer a...  \n",
       "28                        Very Fun, Would play again!  \n",
       "29                                          NICE GAME  \n",
       "30  Más optimizado que el 2, me corre en una Lapto...  \n",
       "31                                         bom demais  "
      ]
     },
     "execution_count": 117,
     "metadata": {},
     "output_type": "execute_result"
    }
   ],
   "source": [
    "df_helpful = pd.read_csv('30reviewsmostliked.csv')\n",
    "df_helpful"
   ]
  },
  {
   "cell_type": "markdown",
   "id": "206f419a",
   "metadata": {},
   "source": [
    "Aquí nos hemos podido dar cuenta de que había un problema con la columna de 'votes_helpful' de nuestro conjunto de datos, ya que el codigo para obtener las reviews es correcto.\n",
    "\n",
    "En este apartado queríamos estudiar que es lo que se valoraba más en una reseña. Si el ingenio, la brevedad, o la extensión de la misma, entre otros criterios"
   ]
  },
  {
   "cell_type": "markdown",
   "id": "273878bd",
   "metadata": {},
   "source": [
    "### 11. Correlación entre valoraciones de un juego y el numero de reseñas que tiene"
   ]
  },
  {
   "cell_type": "markdown",
   "id": "b17df659",
   "metadata": {},
   "source": [
    "También nos ha surgido la curiosidad y queremos ver si hay alguna relación entre las valoraciones de un juego y el numero de reseñas que tiene el mismo. "
   ]
  },
  {
   "cell_type": "code",
   "execution_count": 121,
   "id": "3782e719",
   "metadata": {},
   "outputs": [],
   "source": [
    "df_percentages = df_percentages.sort_values(by=['app_name'])\n",
    "df_numreviews = df_numreviews.sort_values(by=['app_name'])"
   ]
  },
  {
   "cell_type": "code",
   "execution_count": 122,
   "id": "e4b02418",
   "metadata": {},
   "outputs": [
    {
     "data": {
      "image/png": "[encoded data removed]",
      "text/plain": [
       "<Figure size 432x288 with 1 Axes>"
      ]
     },
     "metadata": {
      "needs_background": "light"
     },
     "output_type": "display_data"
    },
    {
     "name": "stdout",
     "output_type": "stream",
     "text": [
      "[[1.         0.08548442]\n",
      " [0.08548442 1.        ]]\n"
     ]
    }
   ],
   "source": [
    "x = list(df_percentages['porcentaje'])\n",
    "y = list(df_numreviews['count'])\n",
    "plt.scatter(x, y)\n",
    "plt.title('Correlacion entre valoraciones de un juego y el numero de reseñas que tiene')\n",
    "plt.xlabel('Valoracion media')\n",
    "plt.ylabel('Numero de reseñas')\n",
    "plt.show()\n",
    "print(np.corrcoef(x, y))"
   ]
  },
  {
   "cell_type": "markdown",
   "id": "437d6f22",
   "metadata": {},
   "source": [
    "Al contrario que en otros casos, aquí queda descartado por completo cualquier correlación entre el numero de reseñas y las valoraciones del juego. \n",
    "\n",
    "Con esto queriamos averiguar sí el hecho de que un juego tenga más reseñas implica que haya más polaridad sobre la opinión pública del juego o no, pero hemos visto que acaba siendo independientes el uno del otro"
   ]
  },
  {
   "cell_type": "markdown",
   "id": "24573ef7",
   "metadata": {},
   "source": [
    "### 12. WordClouds de palabras más usadas en las reviews"
   ]
  },
  {
   "cell_type": "code",
   "execution_count": 38,
   "id": "87e79cd4",
   "metadata": {},
   "outputs": [],
   "source": [
    "# !pip install wordcloud\n",
    "from wordcloud import WordCloud, STOPWORDS\n",
    "import csv"
   ]
  },
  {
   "cell_type": "code",
   "execution_count": 39,
   "id": "c9804961",
   "metadata": {},
   "outputs": [],
   "source": [
    "stopwords = set(STOPWORDS)"
   ]
  },
  {
   "cell_type": "code",
   "execution_count": null,
   "id": "e8490f7a",
   "metadata": {},
   "outputs": [],
   "source": [
    "df_words = pd.read_csv(\"freqPalabrasPos.csv\", delimiter=',', error_bad_lines=False)\n",
    "df_words['count'] = pd.to_numeric(df_words['count'], errors='coerce')\n",
    "df_words['count'] = df_words['count'].fillna(0).astype(int)"
   ]
  },
  {
   "cell_type": "code",
   "execution_count": 46,
   "id": "7b5f105f",
   "metadata": {},
   "outputs": [
    {
     "data": {
      "text/html": [
       "<div>\n",
       "<style scoped>\n",
       "    .dataframe tbody tr th:only-of-type {\n",
       "        vertical-align: middle;\n",
       "    }\n",
       "\n",
       "    .dataframe tbody tr th {\n",
       "        vertical-align: top;\n",
       "    }\n",
       "\n",
       "    .dataframe thead th {\n",
       "        text-align: right;\n",
       "    }\n",
       "</style>\n",
       "<table border=\"1\" class=\"dataframe\">\n",
       "  <thead>\n",
       "    <tr style=\"text-align: right;\">\n",
       "      <th></th>\n",
       "      <th>word</th>\n",
       "      <th>count</th>\n",
       "    </tr>\n",
       "  </thead>\n",
       "  <tbody>\n",
       "    <tr>\n",
       "      <th>0</th>\n",
       "      <td>still</td>\n",
       "      <td>535570</td>\n",
       "    </tr>\n",
       "    <tr>\n",
       "      <th>1</th>\n",
       "      <td>hope</td>\n",
       "      <td>82832</td>\n",
       "    </tr>\n",
       "    <tr>\n",
       "      <th>2</th>\n",
       "      <td>those</td>\n",
       "      <td>185845</td>\n",
       "    </tr>\n",
       "    <tr>\n",
       "      <th>3</th>\n",
       "      <td>spoil</td>\n",
       "      <td>10201</td>\n",
       "    </tr>\n",
       "    <tr>\n",
       "      <th>4</th>\n",
       "      <td>some</td>\n",
       "      <td>749966</td>\n",
       "    </tr>\n",
       "    <tr>\n",
       "      <th>...</th>\n",
       "      <td>...</td>\n",
       "      <td>...</td>\n",
       "    </tr>\n",
       "    <tr>\n",
       "      <th>254971</th>\n",
       "      <td>Stratis.</td>\n",
       "      <td>28</td>\n",
       "    </tr>\n",
       "    <tr>\n",
       "      <th>254972</th>\n",
       "      <td>2009\\nDonut</td>\n",
       "      <td>11</td>\n",
       "    </tr>\n",
       "    <tr>\n",
       "      <th>254973</th>\n",
       "      <td>FATEs</td>\n",
       "      <td>25</td>\n",
       "    </tr>\n",
       "    <tr>\n",
       "      <th>254974</th>\n",
       "      <td>Arcanist</td>\n",
       "      <td>16</td>\n",
       "    </tr>\n",
       "    <tr>\n",
       "      <th>254975</th>\n",
       "      <td>BONEWORKS,</td>\n",
       "      <td>15</td>\n",
       "    </tr>\n",
       "  </tbody>\n",
       "</table>\n",
       "<p>254976 rows × 2 columns</p>\n",
       "</div>"
      ],
      "text/plain": [
       "               word   count\n",
       "0             still  535570\n",
       "1              hope   82832\n",
       "2             those  185845\n",
       "3             spoil   10201\n",
       "4              some  749966\n",
       "...             ...     ...\n",
       "254971     Stratis.      28\n",
       "254972  2009\\nDonut      11\n",
       "254973        FATEs      25\n",
       "254974     Arcanist      16\n",
       "254975   BONEWORKS,      15\n",
       "\n",
       "[254976 rows x 2 columns]"
      ]
     },
     "execution_count": 46,
     "metadata": {},
     "output_type": "execute_result"
    }
   ],
   "source": [
    "df_words"
   ]
  },
  {
   "cell_type": "markdown",
   "id": "b33a2100",
   "metadata": {},
   "source": [
    "Filtramos las palabras que salen en la lista de las stopwords de la libreria wordcloud y convertimos el dataframe en un diccionario"
   ]
  },
  {
   "cell_type": "code",
   "execution_count": 48,
   "id": "26eb5f30",
   "metadata": {},
   "outputs": [],
   "source": [
    "df_words = df_words[~df_words['word'].str.lower().isin(stopwords)]\n",
    "new_data = df_words.set_index('word')['count'].to_dict()"
   ]
  },
  {
   "cell_type": "code",
   "execution_count": 65,
   "id": "ca88caa0",
   "metadata": {},
   "outputs": [],
   "source": [
    "df_words = df_words.drop(df_words[df_words.word == 'game'].index)\n",
    "df_words = df_words.dropna()"
   ]
  },
  {
   "cell_type": "code",
   "execution_count": 66,
   "id": "d2198af7",
   "metadata": {},
   "outputs": [
    {
     "data": {
      "text/plain": [
       "(-0.5, 399.5, 199.5, -0.5)"
      ]
     },
     "execution_count": 66,
     "metadata": {},
     "output_type": "execute_result"
    },
    {
     "data": {
      "image/png": "[encoded data removed]",
      "text/plain": [
       "<Figure size 432x288 with 1 Axes>"
      ]
     },
     "metadata": {
      "needs_background": "light"
     },
     "output_type": "display_data"
    }
   ],
   "source": [
    "#generamos la wordcloud utilizando el diccionario \n",
    "wc = WordCloud(max_font_size=40)\n",
    "wc.generate_from_frequencies(new_data)\n",
    "plt.imshow(wc, interpolation=\"bilinear\")\n",
    "plt.axis(\"off\")"
   ]
  },
  {
   "cell_type": "markdown",
   "id": "0ffa6637",
   "metadata": {},
   "source": [
    "Arriba podemos ver algunas de las palabras más utilizadas en las reviews positivas, como \"play\", \"recommend\", o \"good\".\n",
    "\n",
    "Vamos a generar un diagrama para verlo mejor"
   ]
  },
  {
   "cell_type": "code",
   "execution_count": 67,
   "id": "bcf8542f",
   "metadata": {},
   "outputs": [
    {
     "data": {
      "image/png": "[encoded data removed]",
      "text/plain": [
       "<Figure size 432x288 with 1 Axes>"
      ]
     },
     "metadata": {
      "needs_background": "light"
     },
     "output_type": "display_data"
    }
   ],
   "source": [
    "wordPos = df_words.sort_values(by='count', ascending=False).head(25)\n",
    "# plt.plot(wordPos['word'],wordPos['count'])\n",
    "fig = wordPos.plot(x='word', y='count', kind='bar')\n",
    "plt.ticklabel_format(style='plain', axis='y')"
   ]
  },
  {
   "cell_type": "markdown",
   "id": "579cb0ac",
   "metadata": {},
   "source": [
    "Podemos ver algunas de las palabras más utilizadas. Vemos que tiene sentido que aparezcan palabras como \"good\", \"fun\" o \"great\""
   ]
  },
  {
   "cell_type": "markdown",
   "id": "1af26aa8",
   "metadata": {},
   "source": [
    "Vamos a ver las reviews negativas ahora"
   ]
  },
  {
   "cell_type": "code",
   "execution_count": null,
   "id": "bd25ffc5",
   "metadata": {},
   "outputs": [],
   "source": [
    "df_wordsneg = pd.read_csv(\"freqPalabrasNeg.csv\", error_bad_lines=False)\n",
    "df_wordsneg['count'] =pd.to_numeric(df_wordsneg['count'], errors='coerce')\n",
    "df_wordsneg['count'] = df_wordsneg['count'].fillna(0).astype(int)"
   ]
  },
  {
   "cell_type": "code",
   "execution_count": 69,
   "id": "3e6e20a0",
   "metadata": {},
   "outputs": [
    {
     "data": {
      "text/html": [
       "<div>\n",
       "<style scoped>\n",
       "    .dataframe tbody tr th:only-of-type {\n",
       "        vertical-align: middle;\n",
       "    }\n",
       "\n",
       "    .dataframe tbody tr th {\n",
       "        vertical-align: top;\n",
       "    }\n",
       "\n",
       "    .dataframe thead th {\n",
       "        text-align: right;\n",
       "    }\n",
       "</style>\n",
       "<table border=\"1\" class=\"dataframe\">\n",
       "  <thead>\n",
       "    <tr style=\"text-align: right;\">\n",
       "      <th></th>\n",
       "      <th>word</th>\n",
       "      <th>count</th>\n",
       "    </tr>\n",
       "  </thead>\n",
       "  <tbody>\n",
       "    <tr>\n",
       "      <th>0</th>\n",
       "      <td>involving</td>\n",
       "      <td>688</td>\n",
       "    </tr>\n",
       "    <tr>\n",
       "      <th>1</th>\n",
       "      <td>some</td>\n",
       "      <td>168286</td>\n",
       "    </tr>\n",
       "    <tr>\n",
       "      <th>2</th>\n",
       "      <td>few</td>\n",
       "      <td>64448</td>\n",
       "    </tr>\n",
       "    <tr>\n",
       "      <th>3</th>\n",
       "      <td>travel</td>\n",
       "      <td>4589</td>\n",
       "    </tr>\n",
       "    <tr>\n",
       "      <th>4</th>\n",
       "      <td>still</td>\n",
       "      <td>130992</td>\n",
       "    </tr>\n",
       "    <tr>\n",
       "      <th>...</th>\n",
       "      <td>...</td>\n",
       "      <td>...</td>\n",
       "    </tr>\n",
       "    <tr>\n",
       "      <th>95871</th>\n",
       "      <td>şu</td>\n",
       "      <td>13</td>\n",
       "    </tr>\n",
       "    <tr>\n",
       "      <th>95872</th>\n",
       "      <td>./</td>\n",
       "      <td>18</td>\n",
       "    </tr>\n",
       "    <tr>\n",
       "      <th>95873</th>\n",
       "      <td>Douyu</td>\n",
       "      <td>435</td>\n",
       "    </tr>\n",
       "    <tr>\n",
       "      <th>95874</th>\n",
       "      <td>HOI,</td>\n",
       "      <td>14</td>\n",
       "    </tr>\n",
       "    <tr>\n",
       "      <th>95875</th>\n",
       "      <td>quetzals</td>\n",
       "      <td>15</td>\n",
       "    </tr>\n",
       "  </tbody>\n",
       "</table>\n",
       "<p>95876 rows × 2 columns</p>\n",
       "</div>"
      ],
      "text/plain": [
       "            word   count\n",
       "0      involving     688\n",
       "1           some  168286\n",
       "2            few   64448\n",
       "3         travel    4589\n",
       "4          still  130992\n",
       "...          ...     ...\n",
       "95871         şu      13\n",
       "95872         ./      18\n",
       "95873      Douyu     435\n",
       "95874       HOI,      14\n",
       "95875   quetzals      15\n",
       "\n",
       "[95876 rows x 2 columns]"
      ]
     },
     "execution_count": 69,
     "metadata": {},
     "output_type": "execute_result"
    }
   ],
   "source": [
    "df_wordsneg"
   ]
  },
  {
   "cell_type": "code",
   "execution_count": 70,
   "id": "a0ee3a99",
   "metadata": {},
   "outputs": [],
   "source": [
    "df_wordsneg = df_wordsneg.drop(df_wordsneg[df_wordsneg.word == 'game'].index)\n",
    "df_wordsneg = df_wordsneg.dropna()"
   ]
  },
  {
   "cell_type": "code",
   "execution_count": 71,
   "id": "99c7cf1e",
   "metadata": {},
   "outputs": [],
   "source": [
    "df_wordsneg = df_wordsneg[~df_wordsneg['word'].str.lower().isin(stopwords)]\n",
    "new_data_neg = df_wordsneg.set_index('word')['count'].to_dict()"
   ]
  },
  {
   "cell_type": "code",
   "execution_count": 73,
   "id": "a2bc47e9",
   "metadata": {},
   "outputs": [
    {
     "data": {
      "text/plain": [
       "(-0.5, 399.5, 199.5, -0.5)"
      ]
     },
     "execution_count": 73,
     "metadata": {},
     "output_type": "execute_result"
    },
    {
     "data": {
      "image/png": "[encoded data removed]",
      "text/plain": [
       "<Figure size 432x288 with 1 Axes>"
      ]
     },
     "metadata": {
      "needs_background": "light"
     },
     "output_type": "display_data"
    }
   ],
   "source": [
    "#generamos la wordcloud de reviews negativas utilizando el diccionario \n",
    "wc = WordCloud(max_font_size=40)\n",
    "wc.generate_from_frequencies(new_data_neg)\n",
    "plt.imshow(wc, interpolation=\"bilinear\")\n",
    "plt.axis(\"off\")"
   ]
  },
  {
   "cell_type": "code",
   "execution_count": 74,
   "id": "1a35c4e0",
   "metadata": {},
   "outputs": [
    {
     "data": {
      "image/png": "[encoded data removed]",
      "text/plain": [
       "<Figure size 432x288 with 1 Axes>"
      ]
     },
     "metadata": {
      "needs_background": "light"
     },
     "output_type": "display_data"
    }
   ],
   "source": [
    "wordNeg = df_wordsneg.sort_values(by='count', ascending=False).head(25)\n",
    "fig = wordNeg.plot(x='word', y='count', kind='bar')\n",
    "plt.ticklabel_format(style='plain', axis='y')"
   ]
  },
  {
   "cell_type": "markdown",
   "id": "a105c3b9",
   "metadata": {},
   "source": [
    "Nos sorprende haber obtenido estos resultados. En el wordcloud de reviews negativas siguen apareciendo palabras que aparecían en el de reviews positivas. Creemos que esto se debe a que los stopwords incluyen palabras como \"not\", que puede acompañar a algunas de las palabras del gráfico, como por ejemplo \"not good\". \n",
    "\n",
    "Pese a esto, vemos que una palabra bastante utilizada es \"bad\", que obviamente es un claro signo de que se trata de una review negativa. También podemos ver \"buy\" o \"money\", que intuimos que hace alusión o que recomienda de alguna forma no comprar el juego del que habla la review. \n",
    "\n",
    "No obstante sí que esperabamos una mayor distinción entre wordclouds, ya que son más parecidos de lo que nos gustaría, aunque haya muchas palabras que se pueden utilizar en ambos tipos de reviews como play, will, game, people..."
   ]
  },
  {
   "cell_type": "code",
   "execution_count": null,
   "id": "249062db",
   "metadata": {},
   "outputs": [],
   "source": []
  }
 ],
 "metadata": {
  "kernelspec": {
   "display_name": "Python 3",
   "language": "python",
   "name": "python3"
  },
  "language_info": {
   "codemirror_mode": {
    "name": "ipython",
    "version": 3
   },
   "file_extension": ".py",
   "mimetype": "text/x-python",
   "name": "python",
   "nbconvert_exporter": "python",
   "pygments_lexer": "ipython3",
   "version": "3.8.8"
  }
 },
 "nbformat": 4,
 "nbformat_minor": 5
}
